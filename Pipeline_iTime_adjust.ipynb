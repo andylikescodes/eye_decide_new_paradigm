{
 "cells": [
  {
   "cell_type": "code",
   "execution_count": 1,
   "metadata": {},
   "outputs": [],
   "source": [
    "# Analysis pipeline for pupillometry waveforms."
   ]
  },
  {
   "cell_type": "code",
   "execution_count": 1,
   "metadata": {},
   "outputs": [],
   "source": [
    "import numpy as np\n",
    "import matplotlib.pyplot as plt\n",
    "import pandas as pd\n",
    "import seaborn as sns\n",
    "import scipy\n",
    "\n",
    "from PyGazeAnalyser.pygazeanalyser.edfreader import read_edf"
   ]
  },
  {
   "cell_type": "markdown",
   "metadata": {},
   "source": [
    "# Select pre-pilot, pilot, real experiment, or \n",
    "\n",
    "22201: 199826\n",
    "22202: 1082692\n",
    "22203: 198763\n",
    "22204: 729962"
   ]
  },
  {
   "cell_type": "markdown",
   "metadata": {},
   "source": [
    "# Important Functions"
   ]
  },
  {
   "cell_type": "code",
   "execution_count": 2,
   "metadata": {},
   "outputs": [],
   "source": [
    "def blink_buffer_loop(array_,buffer=15):\n",
    "    arr_ = np.copy(array_)\n",
    "    for i in range(arr_.shape[0]):\n",
    "        blink_times_=[]\n",
    "        for j in range(arr_.shape[1]):\n",
    "            if arr_[i,j]==0:\n",
    "                blink_times_.append(j)\n",
    "        for j in blink_times_:\n",
    "            arr_[i,j-buffer:j+buffer]=0\n",
    "    return arr_\n",
    "\n",
    "def find_theta(x_,y_,radius_):\n",
    "    theta_ = np.arccos(y_/radius_)\n",
    "    for i in range(len(x_)):\n",
    "        if x_[i]<0:\n",
    "            theta_[i]=-theta_[i]+2*np.pi\n",
    "    return theta_\n",
    "\n",
    "def find_report(x_,y_,radius_,trev_,tevent_):\n",
    "    theta_ = find_theta(x_,y_,radius_)\n",
    "    closest_times=[]\n",
    "    before_times=[]\n",
    "    for i in range(len(theta_)):\n",
    "        time_to_theta = trev_*theta_[i]/(2*np.pi)\n",
    "        possible_times = np.array([time_to_theta+trev_*k for k in range(int(np.ceil(tevent_[i]/trev_+2)))])\n",
    "        \n",
    "        # append closest_time with the potential report time closest to the event time. Used for w, m, and s trials.\n",
    "        closest_times.append(possible_times[np.argmin(np.absolute(possible_times-tevent_[i]))])\n",
    "        \n",
    "        # append before_time with the possible time that happens immediately before the event. Used for i trials. \n",
    "        before_times.append(possible_times[int(np.floor(tevent_[i]/trev_))])\n",
    "    return {'closest_times':closest_times,'before_times':before_times}\n",
    "        "
   ]
  },
  {
   "cell_type": "markdown",
   "metadata": {},
   "source": [
    "# Main Function (unfinished)"
   ]
  },
  {
   "cell_type": "code",
   "execution_count": 3,
   "metadata": {},
   "outputs": [],
   "source": [
    "# This main function will read in the EDF files and do things. Will add things in from below.\n",
    "\n",
    "def segment_pupil_data(sub_id_, time_start_, asc_filepath_, beh_filepath_, sampling_rate_, rev_time_,clock_radius_):\n",
    "    edf_data_ = read_edf(asc_filepath_+sub_id_+'.asc',time_start)\n",
    "    beh_data_ = pd.read_csv(beh_filepath_+sub_id_+'.csv')\n",
    "    \n",
    "    # Adding the specific time to \n",
    "    beh_data_[['t_closest','t_before']]=pd.DataFrame(find_report(beh_data_['x'].values,beh_data_['y'].values,clock_radius_,rev_time_,beh_data['event_time']))\n",
    "    beh_data['tref']=0\n",
    "    beh_data['tref']=beh_data['t_closest'].values-beh_data['event_time'].values\n",
    "    mask = beh_data['block_type'].str.match('i')\n",
    "    beh_data.loc[mask,'tref']=beh_data.loc[mask,'t_before'].values-beh_data.loc[mask,'event_time'].values"
   ]
  },
  {
   "cell_type": "code",
   "execution_count": 4,
   "metadata": {},
   "outputs": [],
   "source": [
    "A=np.array([0,1,2,3])\n"
   ]
  },
  {
   "cell_type": "code",
   "execution_count": 5,
   "metadata": {},
   "outputs": [
    {
     "data": {
      "text/plain": [
       "array([0., 0., 0., 1.])"
      ]
     },
     "execution_count": 5,
     "metadata": {},
     "output_type": "execute_result"
    }
   ],
   "source": [
    "np.floor(A/3)"
   ]
  },
  {
   "cell_type": "markdown",
   "metadata": {},
   "source": [
    "# Testing"
   ]
  },
  {
   "cell_type": "markdown",
   "metadata": {},
   "source": [
    "### Read files in for selected participants"
   ]
  },
  {
   "cell_type": "code",
   "execution_count": 6,
   "metadata": {},
   "outputs": [],
   "source": [
    "sub_ids = [['22201','199826'],['22202','1082692'],['22203','198763'],['22204','729962'],['22205','365396'],['22206','572903']]\n",
    "subject_no =0"
   ]
  },
  {
   "cell_type": "code",
   "execution_count": 8,
   "metadata": {},
   "outputs": [],
   "source": [
    "RATE = 500 # Sampling rate in Hz\n",
    "trev = 2.5\n",
    "clock_radius = 2.5\n",
    "FLASH = False\n",
    "\n",
    "if FLASH:\n",
    "    asc_path = 'D:\\\\EyeDecide\\\\ASC\\\\' \n",
    "    beh_path = 'D:\\\\EyeDecide\\\\Behavioral\\\\'\n",
    "    short_path = 'D:\\\\EyeDecide\\\\Shortform\\\\'\n",
    "    long_path = 'D:\\\\EyeDecide\\\\Longform\\\\'\n",
    "else:\n",
    "    asc_path = 'E:\\\\Admin\\\\Research\\\\Eye Decide\\\\ASC\\\\' \n",
    "    beh_path = 'E:\\\\Admin\\\\Research\\\\Eye Decide\\\\Behavioral\\\\'\n",
    "    short_path = 'E:\\\\Admin\\\\Research\\\\Eye Decide\\\\Shortform\\\\'\n",
    "    long_path = 'E:\\\\Admin\\\\Research\\\\Eye Decide\\\\Longform\\\\'\n",
    "\n",
    "\n",
    "edf_data = read_edf(asc_path+sub_ids[subject_no][0]+'.asc',sub_ids[subject_no][1])\n",
    "beh_data = pd.read_csv(beh_path+sub_ids[subject_no][0]+'.csv')"
   ]
  },
  {
   "cell_type": "markdown",
   "metadata": {},
   "source": [
    "### Get the reported times and add them to the beh_data dataframe"
   ]
  },
  {
   "cell_type": "code",
   "execution_count": 9,
   "metadata": {},
   "outputs": [],
   "source": [
    "# Use our self-defined function find_report\n",
    "beh_data[['t_closest','t_before']]=pd.DataFrame(find_report(beh_data['x'].values,beh_data['y'].values,2.5,2.5,beh_data['event_time']))"
   ]
  },
  {
   "cell_type": "markdown",
   "metadata": {},
   "source": [
    "Change reported times to referenced times - i.e. how far before/after the event takes place (in seconds)"
   ]
  },
  {
   "cell_type": "code",
   "execution_count": 10,
   "metadata": {},
   "outputs": [],
   "source": [
    "beh_data['tref']=0\n",
    "beh_data['tref']=beh_data['t_closest'].values-beh_data['event_time'].values\n",
    "mask = beh_data['block_type'].str.match('i')\n",
    "beh_data.loc[mask,'tref']=beh_data.loc[mask,'t_before'].values-beh_data.loc[mask,'event_time'].values"
   ]
  },
  {
   "cell_type": "code",
   "execution_count": null,
   "metadata": {},
   "outputs": [],
   "source": []
  },
  {
   "cell_type": "code",
   "execution_count": 11,
   "metadata": {},
   "outputs": [
    {
     "data": {
      "text/html": [
       "<div>\n",
       "<style scoped>\n",
       "    .dataframe tbody tr th:only-of-type {\n",
       "        vertical-align: middle;\n",
       "    }\n",
       "\n",
       "    .dataframe tbody tr th {\n",
       "        vertical-align: top;\n",
       "    }\n",
       "\n",
       "    .dataframe thead th {\n",
       "        text-align: right;\n",
       "    }\n",
       "</style>\n",
       "<table border=\"1\" class=\"dataframe\">\n",
       "  <thead>\n",
       "    <tr style=\"text-align: right;\">\n",
       "      <th></th>\n",
       "      <th>event_time</th>\n",
       "      <th>block_id</th>\n",
       "      <th>trial_number</th>\n",
       "      <th>x</th>\n",
       "      <th>y</th>\n",
       "      <th>Unnamed: 8</th>\n",
       "      <th>t_closest</th>\n",
       "      <th>t_before</th>\n",
       "      <th>tref</th>\n",
       "    </tr>\n",
       "  </thead>\n",
       "  <tbody>\n",
       "    <tr>\n",
       "      <th>count</th>\n",
       "      <td>55.000000</td>\n",
       "      <td>55.000000</td>\n",
       "      <td>55.000000</td>\n",
       "      <td>55.000000</td>\n",
       "      <td>55.000000</td>\n",
       "      <td>0.0</td>\n",
       "      <td>55.000000</td>\n",
       "      <td>55.000000</td>\n",
       "      <td>55.000000</td>\n",
       "    </tr>\n",
       "    <tr>\n",
       "      <th>mean</th>\n",
       "      <td>9.998877</td>\n",
       "      <td>2.181818</td>\n",
       "      <td>7.545455</td>\n",
       "      <td>0.629176</td>\n",
       "      <td>-0.015823</td>\n",
       "      <td>NaN</td>\n",
       "      <td>10.025013</td>\n",
       "      <td>9.570468</td>\n",
       "      <td>-0.428409</td>\n",
       "    </tr>\n",
       "    <tr>\n",
       "      <th>std</th>\n",
       "      <td>2.267694</td>\n",
       "      <td>0.840875</td>\n",
       "      <td>4.246210</td>\n",
       "      <td>1.765697</td>\n",
       "      <td>1.686596</td>\n",
       "      <td>NaN</td>\n",
       "      <td>2.316869</td>\n",
       "      <td>2.498974</td>\n",
       "      <td>1.063473</td>\n",
       "    </tr>\n",
       "    <tr>\n",
       "      <th>min</th>\n",
       "      <td>6.958326</td>\n",
       "      <td>1.000000</td>\n",
       "      <td>1.000000</td>\n",
       "      <td>-2.478836</td>\n",
       "      <td>-2.493493</td>\n",
       "      <td>NaN</td>\n",
       "      <td>6.221287</td>\n",
       "      <td>5.163557</td>\n",
       "      <td>-2.166845</td>\n",
       "    </tr>\n",
       "    <tr>\n",
       "      <th>25%</th>\n",
       "      <td>8.569455</td>\n",
       "      <td>1.000000</td>\n",
       "      <td>4.000000</td>\n",
       "      <td>-1.197742</td>\n",
       "      <td>-1.495405</td>\n",
       "      <td>NaN</td>\n",
       "      <td>8.293226</td>\n",
       "      <td>7.989299</td>\n",
       "      <td>-1.252179</td>\n",
       "    </tr>\n",
       "    <tr>\n",
       "      <th>50%</th>\n",
       "      <td>9.680598</td>\n",
       "      <td>2.000000</td>\n",
       "      <td>7.000000</td>\n",
       "      <td>1.118034</td>\n",
       "      <td>-0.145104</td>\n",
       "      <td>NaN</td>\n",
       "      <td>9.658438</td>\n",
       "      <td>9.118959</td>\n",
       "      <td>-0.573104</td>\n",
       "    </tr>\n",
       "    <tr>\n",
       "      <th>75%</th>\n",
       "      <td>10.934032</td>\n",
       "      <td>3.000000</td>\n",
       "      <td>11.000000</td>\n",
       "      <td>2.061675</td>\n",
       "      <td>1.541164</td>\n",
       "      <td>NaN</td>\n",
       "      <td>10.908495</td>\n",
       "      <td>10.908495</td>\n",
       "      <td>0.550726</td>\n",
       "    </tr>\n",
       "    <tr>\n",
       "      <th>max</th>\n",
       "      <td>16.527817</td>\n",
       "      <td>3.000000</td>\n",
       "      <td>15.000000</td>\n",
       "      <td>2.497031</td>\n",
       "      <td>2.481615</td>\n",
       "      <td>NaN</td>\n",
       "      <td>16.057232</td>\n",
       "      <td>16.057232</td>\n",
       "      <td>1.531182</td>\n",
       "    </tr>\n",
       "  </tbody>\n",
       "</table>\n",
       "</div>"
      ],
      "text/plain": [
       "       event_time   block_id  trial_number          x          y  Unnamed: 8  \\\n",
       "count   55.000000  55.000000     55.000000  55.000000  55.000000         0.0   \n",
       "mean     9.998877   2.181818      7.545455   0.629176  -0.015823         NaN   \n",
       "std      2.267694   0.840875      4.246210   1.765697   1.686596         NaN   \n",
       "min      6.958326   1.000000      1.000000  -2.478836  -2.493493         NaN   \n",
       "25%      8.569455   1.000000      4.000000  -1.197742  -1.495405         NaN   \n",
       "50%      9.680598   2.000000      7.000000   1.118034  -0.145104         NaN   \n",
       "75%     10.934032   3.000000     11.000000   2.061675   1.541164         NaN   \n",
       "max     16.527817   3.000000     15.000000   2.497031   2.481615         NaN   \n",
       "\n",
       "       t_closest   t_before       tref  \n",
       "count  55.000000  55.000000  55.000000  \n",
       "mean   10.025013   9.570468  -0.428409  \n",
       "std     2.316869   2.498974   1.063473  \n",
       "min     6.221287   5.163557  -2.166845  \n",
       "25%     8.293226   7.989299  -1.252179  \n",
       "50%     9.658438   9.118959  -0.573104  \n",
       "75%    10.908495  10.908495   0.550726  \n",
       "max    16.057232  16.057232   1.531182  "
      ]
     },
     "execution_count": 11,
     "metadata": {},
     "output_type": "execute_result"
    }
   ],
   "source": [
    "beh_data[beh_data['block_type'].str.match('i')].describe()"
   ]
  },
  {
   "cell_type": "markdown",
   "metadata": {},
   "source": [
    "### Goal: \n",
    "1. Create a dataframe with the times and event names as two columns \n",
    "2. Append this dataframe with columns from the behavioral data. \n",
    "3. Use this dataframe as a basis for segmenting the data."
   ]
  },
  {
   "cell_type": "code",
   "execution_count": 12,
   "metadata": {},
   "outputs": [],
   "source": [
    "temp_event_markers=[]\n",
    "for i in range(len(edf_data)):\n",
    "    if edf_data[i]['events']['msg']:\n",
    "        temp_event_markers.append(edf_data[i]['events']['msg'])\n",
    "event_markers = [item for sublist in temp_event_markers for item in sublist]"
   ]
  },
  {
   "cell_type": "code",
   "execution_count": 13,
   "metadata": {},
   "outputs": [],
   "source": [
    "df = pd.DataFrame(event_markers,columns=['EventTime','Label'])\n",
    "df['EventTime'] = df['EventTime'] - int(sub_ids[subject_no][1])\n"
   ]
  },
  {
   "cell_type": "markdown",
   "metadata": {},
   "source": [
    "Get rid of all the events that do not contain 'EVENT-TIME'"
   ]
  },
  {
   "cell_type": "code",
   "execution_count": 14,
   "metadata": {},
   "outputs": [],
   "source": [
    "df = df[df['Label'].str.contains('EVENT-TIME')].reset_index()\n",
    "events=pd.concat([df,beh_data],axis=1)"
   ]
  },
  {
   "cell_type": "markdown",
   "metadata": {},
   "source": []
  },
  {
   "cell_type": "code",
   "execution_count": 15,
   "metadata": {},
   "outputs": [],
   "source": [
    "temp_pupil_size = []\n",
    "for i in range(len(edf_data)):\n",
    "    print('Mismatch at: '+str(i)) if len(edf_data[i]['time'])!=len(edf_data[i]['size']) else False\n",
    "    temp_pupil_size.append(np.vstack(np.array([edf_data[i]['time'],edf_data[i]['size']])))\n",
    "pupil_size = np.hstack(temp_pupil_size)"
   ]
  },
  {
   "cell_type": "code",
   "execution_count": 16,
   "metadata": {},
   "outputs": [
    {
     "name": "stdout",
     "output_type": "stream",
     "text": [
      "(210, 13)\n"
     ]
    },
    {
     "data": {
      "text/html": [
       "<div>\n",
       "<style scoped>\n",
       "    .dataframe tbody tr th:only-of-type {\n",
       "        vertical-align: middle;\n",
       "    }\n",
       "\n",
       "    .dataframe tbody tr th {\n",
       "        vertical-align: top;\n",
       "    }\n",
       "\n",
       "    .dataframe thead th {\n",
       "        text-align: right;\n",
       "    }\n",
       "</style>\n",
       "<table border=\"1\" class=\"dataframe\">\n",
       "  <thead>\n",
       "    <tr style=\"text-align: right;\">\n",
       "      <th></th>\n",
       "      <th>EventTime</th>\n",
       "      <th>Label</th>\n",
       "      <th>event_time</th>\n",
       "      <th>block_type</th>\n",
       "      <th>block_id</th>\n",
       "      <th>is_practice</th>\n",
       "      <th>is_report</th>\n",
       "      <th>trial_number</th>\n",
       "      <th>x</th>\n",
       "      <th>y</th>\n",
       "      <th>t_closest</th>\n",
       "      <th>t_before</th>\n",
       "      <th>tref</th>\n",
       "    </tr>\n",
       "  </thead>\n",
       "  <tbody>\n",
       "    <tr>\n",
       "      <th>0</th>\n",
       "      <td>166804</td>\n",
       "      <td>b'EVENT-TIME RECORDED - KEYPRESSED.'\\n</td>\n",
       "      <td>5.770886</td>\n",
       "      <td>no_report</td>\n",
       "      <td>1</td>\n",
       "      <td>False</td>\n",
       "      <td>False</td>\n",
       "      <td>1</td>\n",
       "      <td>0.0</td>\n",
       "      <td>0.0</td>\n",
       "      <td>5.625</td>\n",
       "      <td>5.625</td>\n",
       "      <td>-0.145886</td>\n",
       "    </tr>\n",
       "    <tr>\n",
       "      <th>1</th>\n",
       "      <td>178888</td>\n",
       "      <td>b'EVENT-TIME RECORDED - KEYPRESSED.'\\n</td>\n",
       "      <td>7.715298</td>\n",
       "      <td>no_report</td>\n",
       "      <td>1</td>\n",
       "      <td>False</td>\n",
       "      <td>False</td>\n",
       "      <td>2</td>\n",
       "      <td>0.0</td>\n",
       "      <td>0.0</td>\n",
       "      <td>8.125</td>\n",
       "      <td>8.125</td>\n",
       "      <td>0.409702</td>\n",
       "    </tr>\n",
       "    <tr>\n",
       "      <th>2</th>\n",
       "      <td>194931</td>\n",
       "      <td>b'EVENT-TIME RECORDED - KEYPRESSED.'\\n</td>\n",
       "      <td>8.250010</td>\n",
       "      <td>no_report</td>\n",
       "      <td>1</td>\n",
       "      <td>False</td>\n",
       "      <td>False</td>\n",
       "      <td>3</td>\n",
       "      <td>0.0</td>\n",
       "      <td>0.0</td>\n",
       "      <td>8.125</td>\n",
       "      <td>8.125</td>\n",
       "      <td>-0.125010</td>\n",
       "    </tr>\n",
       "    <tr>\n",
       "      <th>3</th>\n",
       "      <td>210085</td>\n",
       "      <td>b'EVENT-TIME RECORDED - KEYPRESSED.'\\n</td>\n",
       "      <td>8.569512</td>\n",
       "      <td>no_report</td>\n",
       "      <td>1</td>\n",
       "      <td>False</td>\n",
       "      <td>False</td>\n",
       "      <td>4</td>\n",
       "      <td>0.0</td>\n",
       "      <td>0.0</td>\n",
       "      <td>8.125</td>\n",
       "      <td>8.125</td>\n",
       "      <td>-0.444512</td>\n",
       "    </tr>\n",
       "    <tr>\n",
       "      <th>4</th>\n",
       "      <td>226246</td>\n",
       "      <td>b'EVENT-TIME RECORDED - KEYPRESSED.'\\n</td>\n",
       "      <td>7.979127</td>\n",
       "      <td>no_report</td>\n",
       "      <td>1</td>\n",
       "      <td>False</td>\n",
       "      <td>False</td>\n",
       "      <td>5</td>\n",
       "      <td>0.0</td>\n",
       "      <td>0.0</td>\n",
       "      <td>8.125</td>\n",
       "      <td>8.125</td>\n",
       "      <td>0.145873</td>\n",
       "    </tr>\n",
       "  </tbody>\n",
       "</table>\n",
       "</div>"
      ],
      "text/plain": [
       "   EventTime                                   Label  event_time block_type  \\\n",
       "0     166804  b'EVENT-TIME RECORDED - KEYPRESSED.'\\n    5.770886  no_report   \n",
       "1     178888  b'EVENT-TIME RECORDED - KEYPRESSED.'\\n    7.715298  no_report   \n",
       "2     194931  b'EVENT-TIME RECORDED - KEYPRESSED.'\\n    8.250010  no_report   \n",
       "3     210085  b'EVENT-TIME RECORDED - KEYPRESSED.'\\n    8.569512  no_report   \n",
       "4     226246  b'EVENT-TIME RECORDED - KEYPRESSED.'\\n    7.979127  no_report   \n",
       "\n",
       "   block_id  is_practice  is_report  trial_number    x    y  t_closest  \\\n",
       "0         1        False      False             1  0.0  0.0      5.625   \n",
       "1         1        False      False             2  0.0  0.0      8.125   \n",
       "2         1        False      False             3  0.0  0.0      8.125   \n",
       "3         1        False      False             4  0.0  0.0      8.125   \n",
       "4         1        False      False             5  0.0  0.0      8.125   \n",
       "\n",
       "   t_before      tref  \n",
       "0     5.625 -0.145886  \n",
       "1     8.125  0.409702  \n",
       "2     8.125 -0.125010  \n",
       "3     8.125 -0.444512  \n",
       "4     8.125  0.145873  "
      ]
     },
     "execution_count": 16,
     "metadata": {},
     "output_type": "execute_result"
    }
   ],
   "source": [
    "mask = ~events['is_practice']\n",
    "events = events[mask].reset_index()\n",
    "del events['level_0']\n",
    "del events['index']\n",
    "del events['Unnamed: 8']\n",
    "\n",
    "print(events.shape)\n",
    "events.head()\n"
   ]
  },
  {
   "cell_type": "code",
   "execution_count": 17,
   "metadata": {},
   "outputs": [
    {
     "data": {
      "text/html": [
       "<div>\n",
       "<style scoped>\n",
       "    .dataframe tbody tr th:only-of-type {\n",
       "        vertical-align: middle;\n",
       "    }\n",
       "\n",
       "    .dataframe tbody tr th {\n",
       "        vertical-align: top;\n",
       "    }\n",
       "\n",
       "    .dataframe thead th {\n",
       "        text-align: right;\n",
       "    }\n",
       "</style>\n",
       "<table border=\"1\" class=\"dataframe\">\n",
       "  <thead>\n",
       "    <tr style=\"text-align: right;\">\n",
       "      <th></th>\n",
       "      <th>EventTime</th>\n",
       "      <th>Label</th>\n",
       "      <th>event_time</th>\n",
       "      <th>block_type</th>\n",
       "      <th>block_id</th>\n",
       "      <th>is_practice</th>\n",
       "      <th>is_report</th>\n",
       "      <th>trial_number</th>\n",
       "      <th>x</th>\n",
       "      <th>y</th>\n",
       "      <th>t_closest</th>\n",
       "      <th>t_before</th>\n",
       "      <th>tref</th>\n",
       "    </tr>\n",
       "  </thead>\n",
       "  <tbody>\n",
       "    <tr>\n",
       "      <th>75</th>\n",
       "      <td>2696610</td>\n",
       "      <td>b'EVENT-TIME RECORDED - KEYPRESSED.'\\n</td>\n",
       "      <td>9.083356</td>\n",
       "      <td>i</td>\n",
       "      <td>1</td>\n",
       "      <td>False</td>\n",
       "      <td>True</td>\n",
       "      <td>1</td>\n",
       "      <td>0.263234</td>\n",
       "      <td>-2.486103</td>\n",
       "      <td>8.708027</td>\n",
       "      <td>8.708027</td>\n",
       "      <td>-0.375329</td>\n",
       "    </tr>\n",
       "    <tr>\n",
       "      <th>76</th>\n",
       "      <td>2713604</td>\n",
       "      <td>b'EVENT-TIME RECORDED - KEYPRESSED.'\\n</td>\n",
       "      <td>9.916668</td>\n",
       "      <td>i</td>\n",
       "      <td>1</td>\n",
       "      <td>False</td>\n",
       "      <td>True</td>\n",
       "      <td>2</td>\n",
       "      <td>2.458205</td>\n",
       "      <td>-0.455223</td>\n",
       "      <td>10.697857</td>\n",
       "      <td>8.197857</td>\n",
       "      <td>-1.718811</td>\n",
       "    </tr>\n",
       "    <tr>\n",
       "      <th>77</th>\n",
       "      <td>2730695</td>\n",
       "      <td>b'EVENT-TIME RECORDED - KEYPRESSED.'\\n</td>\n",
       "      <td>9.451366</td>\n",
       "      <td>i</td>\n",
       "      <td>1</td>\n",
       "      <td>False</td>\n",
       "      <td>True</td>\n",
       "      <td>3</td>\n",
       "      <td>-2.000000</td>\n",
       "      <td>-1.500000</td>\n",
       "      <td>9.118959</td>\n",
       "      <td>9.118959</td>\n",
       "      <td>-0.332407</td>\n",
       "    </tr>\n",
       "    <tr>\n",
       "      <th>78</th>\n",
       "      <td>2746182</td>\n",
       "      <td>b'EVENT-TIME RECORDED - KEYPRESSED.'\\n</td>\n",
       "      <td>9.805616</td>\n",
       "      <td>i</td>\n",
       "      <td>1</td>\n",
       "      <td>False</td>\n",
       "      <td>True</td>\n",
       "      <td>4</td>\n",
       "      <td>0.854358</td>\n",
       "      <td>2.349484</td>\n",
       "      <td>10.138772</td>\n",
       "      <td>7.638772</td>\n",
       "      <td>-2.166845</td>\n",
       "    </tr>\n",
       "    <tr>\n",
       "      <th>79</th>\n",
       "      <td>2762517</td>\n",
       "      <td>b'EVENT-TIME RECORDED - KEYPRESSED.'\\n</td>\n",
       "      <td>7.402851</td>\n",
       "      <td>i</td>\n",
       "      <td>1</td>\n",
       "      <td>False</td>\n",
       "      <td>True</td>\n",
       "      <td>5</td>\n",
       "      <td>2.392051</td>\n",
       "      <td>-0.726699</td>\n",
       "      <td>8.242352</td>\n",
       "      <td>5.742352</td>\n",
       "      <td>-1.660499</td>\n",
       "    </tr>\n",
       "  </tbody>\n",
       "</table>\n",
       "</div>"
      ],
      "text/plain": [
       "    EventTime                                   Label  event_time block_type  \\\n",
       "75    2696610  b'EVENT-TIME RECORDED - KEYPRESSED.'\\n    9.083356          i   \n",
       "76    2713604  b'EVENT-TIME RECORDED - KEYPRESSED.'\\n    9.916668          i   \n",
       "77    2730695  b'EVENT-TIME RECORDED - KEYPRESSED.'\\n    9.451366          i   \n",
       "78    2746182  b'EVENT-TIME RECORDED - KEYPRESSED.'\\n    9.805616          i   \n",
       "79    2762517  b'EVENT-TIME RECORDED - KEYPRESSED.'\\n    7.402851          i   \n",
       "\n",
       "    block_id  is_practice  is_report  trial_number         x         y  \\\n",
       "75         1        False       True             1  0.263234 -2.486103   \n",
       "76         1        False       True             2  2.458205 -0.455223   \n",
       "77         1        False       True             3 -2.000000 -1.500000   \n",
       "78         1        False       True             4  0.854358  2.349484   \n",
       "79         1        False       True             5  2.392051 -0.726699   \n",
       "\n",
       "    t_closest  t_before      tref  \n",
       "75   8.708027  8.708027 -0.375329  \n",
       "76  10.697857  8.197857 -1.718811  \n",
       "77   9.118959  9.118959 -0.332407  \n",
       "78  10.138772  7.638772 -2.166845  \n",
       "79   8.242352  5.742352 -1.660499  "
      ]
     },
     "execution_count": 17,
     "metadata": {},
     "output_type": "execute_result"
    }
   ],
   "source": [
    "events[events['block_type'].str.match('i')].head()"
   ]
  },
  {
   "cell_type": "code",
   "execution_count": 55,
   "metadata": {},
   "outputs": [],
   "source": [
    "# events.loc[events['block_type'].str.match('i'),'EventTime']+np.ceil(events.loc[events['block_type'].str.match('i'),'tref']*1000)"
   ]
  },
  {
   "cell_type": "code",
   "execution_count": 24,
   "metadata": {},
   "outputs": [
    {
     "data": {
      "text/plain": [
       "DescribeResult(nobs=45, minmax=(-2.166844605481076, 1.5311822096485743), mean=-0.4347040695888656, variance=1.1835939654791032, skewness=0.42595656351650285, kurtosis=-1.0951439030361731)"
      ]
     },
     "execution_count": 24,
     "metadata": {},
     "output_type": "execute_result"
    }
   ],
   "source": [
    "scipy.stats.describe(events.loc[events['block_type'].str.match('i'),'tref'].values)"
   ]
  },
  {
   "cell_type": "code",
   "execution_count": 25,
   "metadata": {},
   "outputs": [],
   "source": [
    "# print(pupil_size[:,0:19])\n",
    "# print(pupil_size[:,-20:-1])"
   ]
  },
  {
   "cell_type": "code",
   "execution_count": 26,
   "metadata": {},
   "outputs": [],
   "source": [
    "# no_practice.tail()"
   ]
  },
  {
   "cell_type": "code",
   "execution_count": 27,
   "metadata": {},
   "outputs": [],
   "source": [
    "# DATA SEGMENTATION\n",
    "# Select how many seconds before/after to go. The selection here should be fairly large compared to the final interval we want.\n",
    "start=3\n",
    "stop=3\n",
    "pupil_size_to_df = []\n",
    "\n",
    "# THIS ADJUSTS EVENT TIMES FOR I TIME ACCORDING TO SELF REPORT\n",
    "is_I_fixed = True\n",
    "\n",
    "if is_I_fixed:\n",
    "    mask = events['block_type'].str.match('i')\n",
    "    events.loc[mask,'EventTime'] = events.loc[mask,'EventTime']+np.ceil(events.loc[mask,'tref']*1000)\n",
    "\n",
    "for i in range(events.shape[0]):\n",
    "    align_time = events.loc[i,'EventTime']\n",
    "    if align_time%2==0:\n",
    "\n",
    "        align_idx = np.where(pupil_size[0,:]==align_time)[0][0]\n",
    "    else:\n",
    "\n",
    "        align_idx = np.where(pupil_size[0,:]==align_time-1)[0][0]\n",
    "    epoch_begin = align_idx-start*RATE\n",
    "    epoch_end = align_idx+stop*RATE\n",
    "    trial_pupil = pupil_size[1,epoch_begin:epoch_end]\n",
    "    pupil_size_to_df.append(trial_pupil)\n",
    "    \n",
    "    \n",
    "events['PupilSize']=pupil_size_to_df"
   ]
  },
  {
   "cell_type": "code",
   "execution_count": 28,
   "metadata": {},
   "outputs": [
    {
     "data": {
      "text/html": [
       "<div>\n",
       "<style scoped>\n",
       "    .dataframe tbody tr th:only-of-type {\n",
       "        vertical-align: middle;\n",
       "    }\n",
       "\n",
       "    .dataframe tbody tr th {\n",
       "        vertical-align: top;\n",
       "    }\n",
       "\n",
       "    .dataframe thead th {\n",
       "        text-align: right;\n",
       "    }\n",
       "</style>\n",
       "<table border=\"1\" class=\"dataframe\">\n",
       "  <thead>\n",
       "    <tr style=\"text-align: right;\">\n",
       "      <th></th>\n",
       "      <th>EventTime</th>\n",
       "      <th>Label</th>\n",
       "      <th>event_time</th>\n",
       "      <th>block_type</th>\n",
       "      <th>block_id</th>\n",
       "      <th>is_practice</th>\n",
       "      <th>is_report</th>\n",
       "      <th>trial_number</th>\n",
       "      <th>x</th>\n",
       "      <th>y</th>\n",
       "      <th>t_closest</th>\n",
       "      <th>t_before</th>\n",
       "      <th>tref</th>\n",
       "      <th>PupilSize</th>\n",
       "    </tr>\n",
       "  </thead>\n",
       "  <tbody>\n",
       "    <tr>\n",
       "      <th>0</th>\n",
       "      <td>166804.0</td>\n",
       "      <td>b'EVENT-TIME RECORDED - KEYPRESSED.'\\n</td>\n",
       "      <td>5.770886</td>\n",
       "      <td>no_report</td>\n",
       "      <td>1</td>\n",
       "      <td>False</td>\n",
       "      <td>False</td>\n",
       "      <td>1</td>\n",
       "      <td>0.0</td>\n",
       "      <td>0.0</td>\n",
       "      <td>5.625</td>\n",
       "      <td>5.625</td>\n",
       "      <td>-0.145886</td>\n",
       "      <td>[515.0, 515.0, 515.0, 515.0, 514.0, 514.0, 515...</td>\n",
       "    </tr>\n",
       "    <tr>\n",
       "      <th>1</th>\n",
       "      <td>178888.0</td>\n",
       "      <td>b'EVENT-TIME RECORDED - KEYPRESSED.'\\n</td>\n",
       "      <td>7.715298</td>\n",
       "      <td>no_report</td>\n",
       "      <td>1</td>\n",
       "      <td>False</td>\n",
       "      <td>False</td>\n",
       "      <td>2</td>\n",
       "      <td>0.0</td>\n",
       "      <td>0.0</td>\n",
       "      <td>8.125</td>\n",
       "      <td>8.125</td>\n",
       "      <td>0.409702</td>\n",
       "      <td>[422.0, 423.0, 423.0, 423.0, 422.0, 422.0, 421...</td>\n",
       "    </tr>\n",
       "    <tr>\n",
       "      <th>2</th>\n",
       "      <td>194931.0</td>\n",
       "      <td>b'EVENT-TIME RECORDED - KEYPRESSED.'\\n</td>\n",
       "      <td>8.250010</td>\n",
       "      <td>no_report</td>\n",
       "      <td>1</td>\n",
       "      <td>False</td>\n",
       "      <td>False</td>\n",
       "      <td>3</td>\n",
       "      <td>0.0</td>\n",
       "      <td>0.0</td>\n",
       "      <td>8.125</td>\n",
       "      <td>8.125</td>\n",
       "      <td>-0.125010</td>\n",
       "      <td>[434.0, 435.0, 435.0, 435.0, 435.0, 435.0, 436...</td>\n",
       "    </tr>\n",
       "    <tr>\n",
       "      <th>3</th>\n",
       "      <td>210085.0</td>\n",
       "      <td>b'EVENT-TIME RECORDED - KEYPRESSED.'\\n</td>\n",
       "      <td>8.569512</td>\n",
       "      <td>no_report</td>\n",
       "      <td>1</td>\n",
       "      <td>False</td>\n",
       "      <td>False</td>\n",
       "      <td>4</td>\n",
       "      <td>0.0</td>\n",
       "      <td>0.0</td>\n",
       "      <td>8.125</td>\n",
       "      <td>8.125</td>\n",
       "      <td>-0.444512</td>\n",
       "      <td>[423.0, 423.0, 423.0, 423.0, 423.0, 422.0, 422...</td>\n",
       "    </tr>\n",
       "    <tr>\n",
       "      <th>4</th>\n",
       "      <td>226246.0</td>\n",
       "      <td>b'EVENT-TIME RECORDED - KEYPRESSED.'\\n</td>\n",
       "      <td>7.979127</td>\n",
       "      <td>no_report</td>\n",
       "      <td>1</td>\n",
       "      <td>False</td>\n",
       "      <td>False</td>\n",
       "      <td>5</td>\n",
       "      <td>0.0</td>\n",
       "      <td>0.0</td>\n",
       "      <td>8.125</td>\n",
       "      <td>8.125</td>\n",
       "      <td>0.145873</td>\n",
       "      <td>[443.0, 442.0, 442.0, 443.0, 443.0, 444.0, 444...</td>\n",
       "    </tr>\n",
       "  </tbody>\n",
       "</table>\n",
       "</div>"
      ],
      "text/plain": [
       "   EventTime                                   Label  event_time block_type  \\\n",
       "0   166804.0  b'EVENT-TIME RECORDED - KEYPRESSED.'\\n    5.770886  no_report   \n",
       "1   178888.0  b'EVENT-TIME RECORDED - KEYPRESSED.'\\n    7.715298  no_report   \n",
       "2   194931.0  b'EVENT-TIME RECORDED - KEYPRESSED.'\\n    8.250010  no_report   \n",
       "3   210085.0  b'EVENT-TIME RECORDED - KEYPRESSED.'\\n    8.569512  no_report   \n",
       "4   226246.0  b'EVENT-TIME RECORDED - KEYPRESSED.'\\n    7.979127  no_report   \n",
       "\n",
       "   block_id  is_practice  is_report  trial_number    x    y  t_closest  \\\n",
       "0         1        False      False             1  0.0  0.0      5.625   \n",
       "1         1        False      False             2  0.0  0.0      8.125   \n",
       "2         1        False      False             3  0.0  0.0      8.125   \n",
       "3         1        False      False             4  0.0  0.0      8.125   \n",
       "4         1        False      False             5  0.0  0.0      8.125   \n",
       "\n",
       "   t_before      tref                                          PupilSize  \n",
       "0     5.625 -0.145886  [515.0, 515.0, 515.0, 515.0, 514.0, 514.0, 515...  \n",
       "1     8.125  0.409702  [422.0, 423.0, 423.0, 423.0, 422.0, 422.0, 421...  \n",
       "2     8.125 -0.125010  [434.0, 435.0, 435.0, 435.0, 435.0, 435.0, 436...  \n",
       "3     8.125 -0.444512  [423.0, 423.0, 423.0, 423.0, 423.0, 422.0, 422...  \n",
       "4     8.125  0.145873  [443.0, 442.0, 442.0, 443.0, 443.0, 444.0, 444...  "
      ]
     },
     "execution_count": 28,
     "metadata": {},
     "output_type": "execute_result"
    }
   ],
   "source": [
    "events.head()"
   ]
  },
  {
   "cell_type": "code",
   "execution_count": 30,
   "metadata": {},
   "outputs": [],
   "source": [
    "nr_trials = np.array(events.loc[events['block_type'].str.match('no_report'),'PupilSize'].values.tolist())\n",
    "w_trials = np.array(events.loc[events['block_type'].str.match('w'),'PupilSize'].values.tolist())\n",
    "i_trials = np.array(events.loc[events['block_type'].str.match('i'),'PupilSize'].values.tolist())\n",
    "m_trials = np.array(events.loc[events['block_type'].str.match('m'),'PupilSize'].values.tolist())\n",
    "s_trials = np.array(events.loc[events['block_type'].str.match('s'),'PupilSize'].values.tolist())"
   ]
  },
  {
   "cell_type": "code",
   "execution_count": 31,
   "metadata": {},
   "outputs": [],
   "source": [
    "# BUFFERING and INTERPOLATION\n",
    "blink_buffer = 20\n",
    "interp_method = 'spline'\n",
    "order=3\n",
    "\n",
    "# Use below for interpolation. Creates time axis in milliseconds.\n",
    "if interp_method in ['polynomial','spline']:\n",
    "    nr_trials_buff = blink_buffer_loop(nr_trials,buffer=blink_buffer)\n",
    "    nr_trials_buff[nr_trials_buff==0]=np.nan\n",
    "    nr_trials_interp = pd.DataFrame(nr_trials_buff).interpolate(method=interp_method,order=3,axis=1,limit_direction='forward')\n",
    "    s_trials_buff = blink_buffer_loop(s_trials,buffer=blink_buffer)\n",
    "    s_trials_buff[s_trials_buff==0]=np.nan\n",
    "    s_trials_interp = pd.DataFrame(s_trials_buff).interpolate(method=interp_method,order=3,axis=1,limit_direction='forward')\n",
    "    w_trials_buff = blink_buffer_loop(w_trials,buffer=blink_buffer)\n",
    "    w_trials_buff[w_trials_buff==0]=np.nan\n",
    "    w_trials_interp = pd.DataFrame(w_trials_buff).interpolate(method=interp_method,order=3,axis=1,limit_direction='forward')\n",
    "    i_trials_buff = blink_buffer_loop(i_trials,buffer=blink_buffer)\n",
    "    i_trials_buff[i_trials_buff==0]=np.nan\n",
    "    i_trials_interp = pd.DataFrame(i_trials_buff).interpolate(method=interp_method,order=3,axis=1,limit_direction='forward')\n",
    "    m_trials_buff = blink_buffer_loop(m_trials,buffer=blink_buffer)\n",
    "    m_trials_buff[m_trials_buff==0]=np.nan\n",
    "    m_trials_interp = pd.DataFrame(m_trials_buff).interpolate(method=interp_method,order=3,axis=1,limit_direction='forward')\n",
    "else:\n",
    "    nr_trials_buff = blink_buffer_loop(nr_trials,buffer=blink_buffer)\n",
    "    nr_trials_buff[nr_trials_buff==0]=np.nan\n",
    "    nr_trials_interp = pd.DataFrame(nr_trials_buff).interpolate(method=interp_method,axis=1,limit_direction='forward')\n",
    "    s_trials_buff = blink_buffer_loop(s_trials,buffer=blink_buffer)\n",
    "    s_trials_buff[s_trials_buff==0]=np.nan\n",
    "    s_trials_interp = pd.DataFrame(s_trials_buff).interpolate(method=interp_method,axis=1,limit_direction='forward')\n",
    "    w_trials_buff = blink_buffer_loop(w_trials,buffer=blink_buffer)\n",
    "    w_trials_buff[w_trials_buff==0]=np.nan\n",
    "    w_trials_interp = pd.DataFrame(w_trials_buff).interpolate(method=interp_method,axis=1,limit_direction='forward')\n",
    "    i_trials_buff = blink_buffer_loop(i_trials,buffer=blink_buffer)\n",
    "    i_trials_buff[i_trials_buff==0]=np.nan\n",
    "    i_trials_interp = pd.DataFrame(i_trials_buff).interpolate(method=interp_method,axis=1,limit_direction='forward')\n",
    "    m_trials_buff = blink_buffer_loop(m_trials,buffer=blink_buffer)\n",
    "    m_trials_buff[m_trials_buff==0]=np.nan\n",
    "    m_trials_interp = pd.DataFrame(m_trials_buff).interpolate(method=interp_method,axis=1,limit_direction='forward')"
   ]
  },
  {
   "cell_type": "code",
   "execution_count": 32,
   "metadata": {},
   "outputs": [],
   "source": [
    "# How much to chop from beginning and end of \n",
    "chop_amount = 250\n",
    "XX = [i for i in np.arange((-start+chop_amount/RATE),(start-chop_amount/RATE),1/RATE)]\n",
    "\n",
    "nr_trials = pd.DataFrame(nr_trials_interp.values[:,chop_amount:-chop_amount].T)\n",
    "nr_trials.insert(0,'CondType','No Report')\n",
    "s_trials = pd.DataFrame(s_trials_interp.values[:,chop_amount:-chop_amount].T)\n",
    "s_trials.insert(0,'CondType','S-Time')\n",
    "w_trials = pd.DataFrame(w_trials_interp.values[:,chop_amount:-chop_amount].T)\n",
    "w_trials.insert(0,'CondType','W-Time')\n",
    "i_trials = pd.DataFrame(i_trials_interp.values[:,chop_amount:-chop_amount].T)\n",
    "i_trials.insert(0,'CondType','I-Time')\n",
    "m_trials = pd.DataFrame(m_trials_interp.values[:,chop_amount:-chop_amount].T)\n",
    "m_trials.insert(0,'CondType','M-Time')\n"
   ]
  },
  {
   "cell_type": "code",
   "execution_count": 68,
   "metadata": {},
   "outputs": [
    {
     "data": {
      "text/html": [
       "<div>\n",
       "<style scoped>\n",
       "    .dataframe tbody tr th:only-of-type {\n",
       "        vertical-align: middle;\n",
       "    }\n",
       "\n",
       "    .dataframe tbody tr th {\n",
       "        vertical-align: top;\n",
       "    }\n",
       "\n",
       "    .dataframe thead th {\n",
       "        text-align: right;\n",
       "    }\n",
       "</style>\n",
       "<table border=\"1\" class=\"dataframe\">\n",
       "  <thead>\n",
       "    <tr style=\"text-align: right;\">\n",
       "      <th></th>\n",
       "      <th>CondType</th>\n",
       "      <th>0</th>\n",
       "      <th>1</th>\n",
       "      <th>2</th>\n",
       "      <th>3</th>\n",
       "      <th>4</th>\n",
       "      <th>5</th>\n",
       "      <th>6</th>\n",
       "      <th>7</th>\n",
       "      <th>8</th>\n",
       "      <th>...</th>\n",
       "      <th>20</th>\n",
       "      <th>21</th>\n",
       "      <th>22</th>\n",
       "      <th>23</th>\n",
       "      <th>24</th>\n",
       "      <th>25</th>\n",
       "      <th>26</th>\n",
       "      <th>27</th>\n",
       "      <th>28</th>\n",
       "      <th>29</th>\n",
       "    </tr>\n",
       "  </thead>\n",
       "  <tbody>\n",
       "    <tr>\n",
       "      <th>0</th>\n",
       "      <td>No Report</td>\n",
       "      <td>494.0</td>\n",
       "      <td>403.0</td>\n",
       "      <td>396.0</td>\n",
       "      <td>402.0</td>\n",
       "      <td>431.0</td>\n",
       "      <td>397.0</td>\n",
       "      <td>393.0</td>\n",
       "      <td>355.0</td>\n",
       "      <td>365.0</td>\n",
       "      <td>...</td>\n",
       "      <td>387.0</td>\n",
       "      <td>360.0</td>\n",
       "      <td>549.0</td>\n",
       "      <td>472.0</td>\n",
       "      <td>370.0</td>\n",
       "      <td>311.0</td>\n",
       "      <td>375.0</td>\n",
       "      <td>360.0</td>\n",
       "      <td>416.0</td>\n",
       "      <td>337.0</td>\n",
       "    </tr>\n",
       "    <tr>\n",
       "      <th>1</th>\n",
       "      <td>No Report</td>\n",
       "      <td>494.0</td>\n",
       "      <td>404.0</td>\n",
       "      <td>396.0</td>\n",
       "      <td>402.0</td>\n",
       "      <td>430.0</td>\n",
       "      <td>397.0</td>\n",
       "      <td>393.0</td>\n",
       "      <td>354.0</td>\n",
       "      <td>365.0</td>\n",
       "      <td>...</td>\n",
       "      <td>388.0</td>\n",
       "      <td>360.0</td>\n",
       "      <td>547.0</td>\n",
       "      <td>473.0</td>\n",
       "      <td>369.0</td>\n",
       "      <td>311.0</td>\n",
       "      <td>374.0</td>\n",
       "      <td>361.0</td>\n",
       "      <td>416.0</td>\n",
       "      <td>338.0</td>\n",
       "    </tr>\n",
       "    <tr>\n",
       "      <th>2</th>\n",
       "      <td>No Report</td>\n",
       "      <td>493.0</td>\n",
       "      <td>405.0</td>\n",
       "      <td>396.0</td>\n",
       "      <td>401.0</td>\n",
       "      <td>430.0</td>\n",
       "      <td>397.0</td>\n",
       "      <td>393.0</td>\n",
       "      <td>354.0</td>\n",
       "      <td>365.0</td>\n",
       "      <td>...</td>\n",
       "      <td>388.0</td>\n",
       "      <td>360.0</td>\n",
       "      <td>547.0</td>\n",
       "      <td>473.0</td>\n",
       "      <td>369.0</td>\n",
       "      <td>311.0</td>\n",
       "      <td>374.0</td>\n",
       "      <td>361.0</td>\n",
       "      <td>415.0</td>\n",
       "      <td>337.0</td>\n",
       "    </tr>\n",
       "    <tr>\n",
       "      <th>3</th>\n",
       "      <td>No Report</td>\n",
       "      <td>492.0</td>\n",
       "      <td>406.0</td>\n",
       "      <td>396.0</td>\n",
       "      <td>401.0</td>\n",
       "      <td>430.0</td>\n",
       "      <td>397.0</td>\n",
       "      <td>393.0</td>\n",
       "      <td>353.0</td>\n",
       "      <td>365.0</td>\n",
       "      <td>...</td>\n",
       "      <td>387.0</td>\n",
       "      <td>360.0</td>\n",
       "      <td>548.0</td>\n",
       "      <td>472.0</td>\n",
       "      <td>369.0</td>\n",
       "      <td>311.0</td>\n",
       "      <td>375.0</td>\n",
       "      <td>362.0</td>\n",
       "      <td>415.0</td>\n",
       "      <td>337.0</td>\n",
       "    </tr>\n",
       "    <tr>\n",
       "      <th>4</th>\n",
       "      <td>No Report</td>\n",
       "      <td>492.0</td>\n",
       "      <td>407.0</td>\n",
       "      <td>396.0</td>\n",
       "      <td>401.0</td>\n",
       "      <td>431.0</td>\n",
       "      <td>397.0</td>\n",
       "      <td>392.0</td>\n",
       "      <td>352.0</td>\n",
       "      <td>366.0</td>\n",
       "      <td>...</td>\n",
       "      <td>387.0</td>\n",
       "      <td>359.0</td>\n",
       "      <td>548.0</td>\n",
       "      <td>471.0</td>\n",
       "      <td>370.0</td>\n",
       "      <td>311.0</td>\n",
       "      <td>375.0</td>\n",
       "      <td>362.0</td>\n",
       "      <td>415.0</td>\n",
       "      <td>336.0</td>\n",
       "    </tr>\n",
       "  </tbody>\n",
       "</table>\n",
       "<p>5 rows × 31 columns</p>\n",
       "</div>"
      ],
      "text/plain": [
       "    CondType      0      1      2      3      4      5      6      7      8  \\\n",
       "0  No Report  494.0  403.0  396.0  402.0  431.0  397.0  393.0  355.0  365.0   \n",
       "1  No Report  494.0  404.0  396.0  402.0  430.0  397.0  393.0  354.0  365.0   \n",
       "2  No Report  493.0  405.0  396.0  401.0  430.0  397.0  393.0  354.0  365.0   \n",
       "3  No Report  492.0  406.0  396.0  401.0  430.0  397.0  393.0  353.0  365.0   \n",
       "4  No Report  492.0  407.0  396.0  401.0  431.0  397.0  392.0  352.0  366.0   \n",
       "\n",
       "   ...     20     21     22     23     24     25     26     27     28     29  \n",
       "0  ...  387.0  360.0  549.0  472.0  370.0  311.0  375.0  360.0  416.0  337.0  \n",
       "1  ...  388.0  360.0  547.0  473.0  369.0  311.0  374.0  361.0  416.0  338.0  \n",
       "2  ...  388.0  360.0  547.0  473.0  369.0  311.0  374.0  361.0  415.0  337.0  \n",
       "3  ...  387.0  360.0  548.0  472.0  369.0  311.0  375.0  362.0  415.0  337.0  \n",
       "4  ...  387.0  359.0  548.0  471.0  370.0  311.0  375.0  362.0  415.0  336.0  \n",
       "\n",
       "[5 rows x 31 columns]"
      ]
     },
     "execution_count": 68,
     "metadata": {},
     "output_type": "execute_result"
    }
   ],
   "source": [
    "nr_trials.head()"
   ]
  },
  {
   "cell_type": "code",
   "execution_count": 33,
   "metadata": {},
   "outputs": [],
   "source": [
    "nr_trials.insert(0,'Time',XX)\n",
    "s_trials.insert(0,'Time',XX)\n",
    "w_trials.insert(0,'Time',XX)\n",
    "i_trials.insert(0,'Time',XX)\n",
    "m_trials.insert(0,'Time',XX)\n"
   ]
  },
  {
   "cell_type": "code",
   "execution_count": 34,
   "metadata": {},
   "outputs": [
    {
     "data": {
      "text/html": [
       "<div>\n",
       "<style scoped>\n",
       "    .dataframe tbody tr th:only-of-type {\n",
       "        vertical-align: middle;\n",
       "    }\n",
       "\n",
       "    .dataframe tbody tr th {\n",
       "        vertical-align: top;\n",
       "    }\n",
       "\n",
       "    .dataframe thead th {\n",
       "        text-align: right;\n",
       "    }\n",
       "</style>\n",
       "<table border=\"1\" class=\"dataframe\">\n",
       "  <thead>\n",
       "    <tr style=\"text-align: right;\">\n",
       "      <th></th>\n",
       "      <th>Time</th>\n",
       "      <th>CondType</th>\n",
       "      <th>0</th>\n",
       "      <th>1</th>\n",
       "      <th>2</th>\n",
       "      <th>3</th>\n",
       "      <th>4</th>\n",
       "      <th>5</th>\n",
       "      <th>6</th>\n",
       "      <th>7</th>\n",
       "      <th>...</th>\n",
       "      <th>20</th>\n",
       "      <th>21</th>\n",
       "      <th>22</th>\n",
       "      <th>23</th>\n",
       "      <th>24</th>\n",
       "      <th>25</th>\n",
       "      <th>26</th>\n",
       "      <th>27</th>\n",
       "      <th>28</th>\n",
       "      <th>29</th>\n",
       "    </tr>\n",
       "  </thead>\n",
       "  <tbody>\n",
       "    <tr>\n",
       "      <th>0</th>\n",
       "      <td>-2.500</td>\n",
       "      <td>No Report</td>\n",
       "      <td>494.0</td>\n",
       "      <td>403.0</td>\n",
       "      <td>396.0</td>\n",
       "      <td>402.0</td>\n",
       "      <td>431.0</td>\n",
       "      <td>397.0</td>\n",
       "      <td>393.0</td>\n",
       "      <td>355.0</td>\n",
       "      <td>...</td>\n",
       "      <td>387.0</td>\n",
       "      <td>360.0</td>\n",
       "      <td>549.0</td>\n",
       "      <td>472.0</td>\n",
       "      <td>370.0</td>\n",
       "      <td>311.0</td>\n",
       "      <td>375.0</td>\n",
       "      <td>360.0</td>\n",
       "      <td>416.0</td>\n",
       "      <td>337.0</td>\n",
       "    </tr>\n",
       "    <tr>\n",
       "      <th>1</th>\n",
       "      <td>-2.498</td>\n",
       "      <td>No Report</td>\n",
       "      <td>494.0</td>\n",
       "      <td>404.0</td>\n",
       "      <td>396.0</td>\n",
       "      <td>402.0</td>\n",
       "      <td>430.0</td>\n",
       "      <td>397.0</td>\n",
       "      <td>393.0</td>\n",
       "      <td>354.0</td>\n",
       "      <td>...</td>\n",
       "      <td>388.0</td>\n",
       "      <td>360.0</td>\n",
       "      <td>547.0</td>\n",
       "      <td>473.0</td>\n",
       "      <td>369.0</td>\n",
       "      <td>311.0</td>\n",
       "      <td>374.0</td>\n",
       "      <td>361.0</td>\n",
       "      <td>416.0</td>\n",
       "      <td>338.0</td>\n",
       "    </tr>\n",
       "    <tr>\n",
       "      <th>2</th>\n",
       "      <td>-2.496</td>\n",
       "      <td>No Report</td>\n",
       "      <td>493.0</td>\n",
       "      <td>405.0</td>\n",
       "      <td>396.0</td>\n",
       "      <td>401.0</td>\n",
       "      <td>430.0</td>\n",
       "      <td>397.0</td>\n",
       "      <td>393.0</td>\n",
       "      <td>354.0</td>\n",
       "      <td>...</td>\n",
       "      <td>388.0</td>\n",
       "      <td>360.0</td>\n",
       "      <td>547.0</td>\n",
       "      <td>473.0</td>\n",
       "      <td>369.0</td>\n",
       "      <td>311.0</td>\n",
       "      <td>374.0</td>\n",
       "      <td>361.0</td>\n",
       "      <td>415.0</td>\n",
       "      <td>337.0</td>\n",
       "    </tr>\n",
       "    <tr>\n",
       "      <th>3</th>\n",
       "      <td>-2.494</td>\n",
       "      <td>No Report</td>\n",
       "      <td>492.0</td>\n",
       "      <td>406.0</td>\n",
       "      <td>396.0</td>\n",
       "      <td>401.0</td>\n",
       "      <td>430.0</td>\n",
       "      <td>397.0</td>\n",
       "      <td>393.0</td>\n",
       "      <td>353.0</td>\n",
       "      <td>...</td>\n",
       "      <td>387.0</td>\n",
       "      <td>360.0</td>\n",
       "      <td>548.0</td>\n",
       "      <td>472.0</td>\n",
       "      <td>369.0</td>\n",
       "      <td>311.0</td>\n",
       "      <td>375.0</td>\n",
       "      <td>362.0</td>\n",
       "      <td>415.0</td>\n",
       "      <td>337.0</td>\n",
       "    </tr>\n",
       "    <tr>\n",
       "      <th>4</th>\n",
       "      <td>-2.492</td>\n",
       "      <td>No Report</td>\n",
       "      <td>492.0</td>\n",
       "      <td>407.0</td>\n",
       "      <td>396.0</td>\n",
       "      <td>401.0</td>\n",
       "      <td>431.0</td>\n",
       "      <td>397.0</td>\n",
       "      <td>392.0</td>\n",
       "      <td>352.0</td>\n",
       "      <td>...</td>\n",
       "      <td>387.0</td>\n",
       "      <td>359.0</td>\n",
       "      <td>548.0</td>\n",
       "      <td>471.0</td>\n",
       "      <td>370.0</td>\n",
       "      <td>311.0</td>\n",
       "      <td>375.0</td>\n",
       "      <td>362.0</td>\n",
       "      <td>415.0</td>\n",
       "      <td>336.0</td>\n",
       "    </tr>\n",
       "  </tbody>\n",
       "</table>\n",
       "<p>5 rows × 32 columns</p>\n",
       "</div>"
      ],
      "text/plain": [
       "    Time   CondType      0      1      2      3      4      5      6      7  \\\n",
       "0 -2.500  No Report  494.0  403.0  396.0  402.0  431.0  397.0  393.0  355.0   \n",
       "1 -2.498  No Report  494.0  404.0  396.0  402.0  430.0  397.0  393.0  354.0   \n",
       "2 -2.496  No Report  493.0  405.0  396.0  401.0  430.0  397.0  393.0  354.0   \n",
       "3 -2.494  No Report  492.0  406.0  396.0  401.0  430.0  397.0  393.0  353.0   \n",
       "4 -2.492  No Report  492.0  407.0  396.0  401.0  431.0  397.0  392.0  352.0   \n",
       "\n",
       "   ...     20     21     22     23     24     25     26     27     28     29  \n",
       "0  ...  387.0  360.0  549.0  472.0  370.0  311.0  375.0  360.0  416.0  337.0  \n",
       "1  ...  388.0  360.0  547.0  473.0  369.0  311.0  374.0  361.0  416.0  338.0  \n",
       "2  ...  388.0  360.0  547.0  473.0  369.0  311.0  374.0  361.0  415.0  337.0  \n",
       "3  ...  387.0  360.0  548.0  472.0  369.0  311.0  375.0  362.0  415.0  337.0  \n",
       "4  ...  387.0  359.0  548.0  471.0  370.0  311.0  375.0  362.0  415.0  336.0  \n",
       "\n",
       "[5 rows x 32 columns]"
      ]
     },
     "execution_count": 34,
     "metadata": {},
     "output_type": "execute_result"
    }
   ],
   "source": []
  },
  {
   "cell_type": "code",
   "execution_count": 76,
   "metadata": {},
   "outputs": [
    {
     "data": {
      "text/plain": [
       "(30,)"
      ]
     },
     "execution_count": 76,
     "metadata": {},
     "output_type": "execute_result"
    }
   ],
   "source": [
    "events.loc[events['block_type'].str.match('no_report'),'PupilSize'].shape"
   ]
  },
  {
   "cell_type": "code",
   "execution_count": 243,
   "metadata": {},
   "outputs": [],
   "source": [
    "# is_I_fixed = False\n",
    "\n",
    "# short_form = pd.concat([nr_trials,s_trials,w_trials,m_trials],axis=0)\n",
    "# if is_I_fixed:\n",
    "#     short_form = pd.concat([nr_trials,s_trials,w_trials,i_trials,m_trials],axis=0)"
   ]
  },
  {
   "cell_type": "code",
   "execution_count": 244,
   "metadata": {},
   "outputs": [],
   "source": [
    "# short_form.shape"
   ]
  },
  {
   "cell_type": "code",
   "execution_count": 245,
   "metadata": {},
   "outputs": [],
   "source": [
    "# frames = []\n",
    "# for i in range(30):\n",
    "#     temp = short_form[['CondType','Time',i]]\n",
    "#     frames.append(temp.rename(columns={temp.columns[-1]:'Pupil'}))\n",
    "    "
   ]
  },
  {
   "cell_type": "code",
   "execution_count": null,
   "metadata": {},
   "outputs": [],
   "source": [
    "close_i_trials = np.array(events.loc[events['block_type'].str.match('i'),'PupilSize'].values.tolist())\n"
   ]
  },
  {
   "cell_type": "code",
   "execution_count": 246,
   "metadata": {},
   "outputs": [],
   "source": [
    "# long_form = pd.concat(frames)\n",
    "# long_form.dropna(inplace=True)"
   ]
  },
  {
   "cell_type": "code",
   "execution_count": 247,
   "metadata": {},
   "outputs": [],
   "source": [
    "# long_form.shape"
   ]
  },
  {
   "cell_type": "code",
   "execution_count": null,
   "metadata": {},
   "outputs": [],
   "source": []
  },
  {
   "cell_type": "code",
   "execution_count": 248,
   "metadata": {},
   "outputs": [],
   "source": [
    "# short_form.to_csv(short_path+sub_ids[subject_no][0]+'.csv')\n",
    "# long_form.to_csv(long_path+sub_ids[subject_no][0]+'.csv')"
   ]
  },
  {
   "cell_type": "code",
   "execution_count": null,
   "metadata": {},
   "outputs": [],
   "source": []
  },
  {
   "cell_type": "markdown",
   "metadata": {},
   "source": [
    "### Baselining\n",
    "\n",
    "At this point nr_trials (and the like) have everything but are not baselined. I will baseline using 2.5-2 seconds before event onset."
   ]
  },
  {
   "cell_type": "code",
   "execution_count": 249,
   "metadata": {},
   "outputs": [],
   "source": [
    "# Baseline at the beginning of the trial, \n",
    "\n",
    "base_period = 500"
   ]
  },
  {
   "cell_type": "code",
   "execution_count": 250,
   "metadata": {},
   "outputs": [],
   "source": [
    "nr_baselined = nr_trials.copy()\n",
    "s_baselined = s_trials.copy()\n",
    "w_baselined = w_trials.copy()\n",
    "i_baselined = i_trials.copy()\n",
    "m_baselined = m_trials.copy()\n",
    "\n",
    "for i in range(30):\n",
    "    nr_baselined[i] = nr_trials[i].values - np.mean(nr_trials[i].values[0:int(base_period*RATE/1000)])\n",
    "\n",
    "for i in range(30):\n",
    "    s_baselined[i] = s_trials[i].values - np.mean(s_trials[i].values[0:int(base_period*RATE/1000)])\n",
    "    w_baselined[i] = w_trials[i].values - np.mean(w_trials[i].values[0:int(base_period*RATE/1000)])\n",
    "    i_baselined[i] = i_trials[i].values - np.mean(i_trials[i].values[0:int(base_period*RATE/1000)])\n",
    "    m_baselined[i] = m_trials[i].values - np.mean(m_trials[i].values[0:int(base_period*RATE/1000)])"
   ]
  },
  {
   "cell_type": "code",
   "execution_count": 251,
   "metadata": {},
   "outputs": [
    {
     "data": {
      "text/html": [
       "<div>\n",
       "<style scoped>\n",
       "    .dataframe tbody tr th:only-of-type {\n",
       "        vertical-align: middle;\n",
       "    }\n",
       "\n",
       "    .dataframe tbody tr th {\n",
       "        vertical-align: top;\n",
       "    }\n",
       "\n",
       "    .dataframe thead th {\n",
       "        text-align: right;\n",
       "    }\n",
       "</style>\n",
       "<table border=\"1\" class=\"dataframe\">\n",
       "  <thead>\n",
       "    <tr style=\"text-align: right;\">\n",
       "      <th></th>\n",
       "      <th>Time</th>\n",
       "      <th>CondType</th>\n",
       "      <th>0</th>\n",
       "      <th>1</th>\n",
       "      <th>2</th>\n",
       "      <th>3</th>\n",
       "      <th>4</th>\n",
       "      <th>5</th>\n",
       "      <th>6</th>\n",
       "      <th>7</th>\n",
       "      <th>...</th>\n",
       "      <th>20</th>\n",
       "      <th>21</th>\n",
       "      <th>22</th>\n",
       "      <th>23</th>\n",
       "      <th>24</th>\n",
       "      <th>25</th>\n",
       "      <th>26</th>\n",
       "      <th>27</th>\n",
       "      <th>28</th>\n",
       "      <th>29</th>\n",
       "    </tr>\n",
       "  </thead>\n",
       "  <tbody>\n",
       "    <tr>\n",
       "      <th>0</th>\n",
       "      <td>-2.500</td>\n",
       "      <td>No Report</td>\n",
       "      <td>17.812</td>\n",
       "      <td>-10.008</td>\n",
       "      <td>36.604</td>\n",
       "      <td>21.992</td>\n",
       "      <td>-15.948</td>\n",
       "      <td>19.296</td>\n",
       "      <td>-2.464</td>\n",
       "      <td>-11.964</td>\n",
       "      <td>...</td>\n",
       "      <td>11.372</td>\n",
       "      <td>-33.26</td>\n",
       "      <td>-10.572</td>\n",
       "      <td>18.792</td>\n",
       "      <td>-11.24</td>\n",
       "      <td>-2.744</td>\n",
       "      <td>-9.664</td>\n",
       "      <td>36.848</td>\n",
       "      <td>-4.3</td>\n",
       "      <td>42.256</td>\n",
       "    </tr>\n",
       "    <tr>\n",
       "      <th>1</th>\n",
       "      <td>-2.498</td>\n",
       "      <td>No Report</td>\n",
       "      <td>17.812</td>\n",
       "      <td>-10.008</td>\n",
       "      <td>35.604</td>\n",
       "      <td>20.992</td>\n",
       "      <td>-15.948</td>\n",
       "      <td>18.296</td>\n",
       "      <td>-2.464</td>\n",
       "      <td>-11.964</td>\n",
       "      <td>...</td>\n",
       "      <td>10.372</td>\n",
       "      <td>-33.26</td>\n",
       "      <td>-10.572</td>\n",
       "      <td>19.792</td>\n",
       "      <td>-11.24</td>\n",
       "      <td>-2.744</td>\n",
       "      <td>-9.664</td>\n",
       "      <td>37.848</td>\n",
       "      <td>-4.3</td>\n",
       "      <td>41.256</td>\n",
       "    </tr>\n",
       "    <tr>\n",
       "      <th>2</th>\n",
       "      <td>-2.496</td>\n",
       "      <td>No Report</td>\n",
       "      <td>17.812</td>\n",
       "      <td>-10.008</td>\n",
       "      <td>35.604</td>\n",
       "      <td>20.992</td>\n",
       "      <td>-15.948</td>\n",
       "      <td>18.296</td>\n",
       "      <td>-2.464</td>\n",
       "      <td>-11.964</td>\n",
       "      <td>...</td>\n",
       "      <td>10.372</td>\n",
       "      <td>-32.26</td>\n",
       "      <td>-10.572</td>\n",
       "      <td>19.792</td>\n",
       "      <td>-12.24</td>\n",
       "      <td>-3.744</td>\n",
       "      <td>-10.664</td>\n",
       "      <td>37.848</td>\n",
       "      <td>-4.3</td>\n",
       "      <td>42.256</td>\n",
       "    </tr>\n",
       "    <tr>\n",
       "      <th>3</th>\n",
       "      <td>-2.494</td>\n",
       "      <td>No Report</td>\n",
       "      <td>17.812</td>\n",
       "      <td>-10.008</td>\n",
       "      <td>35.604</td>\n",
       "      <td>19.992</td>\n",
       "      <td>-15.948</td>\n",
       "      <td>17.296</td>\n",
       "      <td>-2.464</td>\n",
       "      <td>-11.964</td>\n",
       "      <td>...</td>\n",
       "      <td>9.372</td>\n",
       "      <td>-32.26</td>\n",
       "      <td>-10.572</td>\n",
       "      <td>19.792</td>\n",
       "      <td>-13.24</td>\n",
       "      <td>-3.744</td>\n",
       "      <td>-10.664</td>\n",
       "      <td>36.848</td>\n",
       "      <td>-4.3</td>\n",
       "      <td>42.256</td>\n",
       "    </tr>\n",
       "    <tr>\n",
       "      <th>4</th>\n",
       "      <td>-2.492</td>\n",
       "      <td>No Report</td>\n",
       "      <td>17.812</td>\n",
       "      <td>-10.008</td>\n",
       "      <td>35.604</td>\n",
       "      <td>19.992</td>\n",
       "      <td>-15.948</td>\n",
       "      <td>17.296</td>\n",
       "      <td>-3.464</td>\n",
       "      <td>-11.964</td>\n",
       "      <td>...</td>\n",
       "      <td>8.372</td>\n",
       "      <td>-32.26</td>\n",
       "      <td>-11.572</td>\n",
       "      <td>19.792</td>\n",
       "      <td>-12.24</td>\n",
       "      <td>-3.744</td>\n",
       "      <td>-11.664</td>\n",
       "      <td>35.848</td>\n",
       "      <td>-4.3</td>\n",
       "      <td>42.256</td>\n",
       "    </tr>\n",
       "  </tbody>\n",
       "</table>\n",
       "<p>5 rows × 32 columns</p>\n",
       "</div>"
      ],
      "text/plain": [
       "    Time   CondType       0       1       2       3       4       5      6  \\\n",
       "0 -2.500  No Report  17.812 -10.008  36.604  21.992 -15.948  19.296 -2.464   \n",
       "1 -2.498  No Report  17.812 -10.008  35.604  20.992 -15.948  18.296 -2.464   \n",
       "2 -2.496  No Report  17.812 -10.008  35.604  20.992 -15.948  18.296 -2.464   \n",
       "3 -2.494  No Report  17.812 -10.008  35.604  19.992 -15.948  17.296 -2.464   \n",
       "4 -2.492  No Report  17.812 -10.008  35.604  19.992 -15.948  17.296 -3.464   \n",
       "\n",
       "        7  ...      20     21      22      23     24     25      26      27  \\\n",
       "0 -11.964  ...  11.372 -33.26 -10.572  18.792 -11.24 -2.744  -9.664  36.848   \n",
       "1 -11.964  ...  10.372 -33.26 -10.572  19.792 -11.24 -2.744  -9.664  37.848   \n",
       "2 -11.964  ...  10.372 -32.26 -10.572  19.792 -12.24 -3.744 -10.664  37.848   \n",
       "3 -11.964  ...   9.372 -32.26 -10.572  19.792 -13.24 -3.744 -10.664  36.848   \n",
       "4 -11.964  ...   8.372 -32.26 -11.572  19.792 -12.24 -3.744 -11.664  35.848   \n",
       "\n",
       "    28      29  \n",
       "0 -4.3  42.256  \n",
       "1 -4.3  41.256  \n",
       "2 -4.3  42.256  \n",
       "3 -4.3  42.256  \n",
       "4 -4.3  42.256  \n",
       "\n",
       "[5 rows x 32 columns]"
      ]
     },
     "execution_count": 251,
     "metadata": {},
     "output_type": "execute_result"
    }
   ],
   "source": [
    "nr_baselined.head()"
   ]
  },
  {
   "cell_type": "code",
   "execution_count": null,
   "metadata": {},
   "outputs": [],
   "source": []
  },
  {
   "cell_type": "code",
   "execution_count": null,
   "metadata": {},
   "outputs": [],
   "source": []
  },
  {
   "cell_type": "code",
   "execution_count": null,
   "metadata": {},
   "outputs": [],
   "source": []
  },
  {
   "cell_type": "code",
   "execution_count": 252,
   "metadata": {},
   "outputs": [],
   "source": [
    "\n",
    "\n",
    "if is_I_fixed:\n",
    "    short_baselined = pd.concat([nr_baselined,s_baselined,w_baselined,i_baselined,m_baselined],axis=0)\n",
    "else:\n",
    "    short_baselined = pd.concat([nr_baselined,s_baselined,w_baselined,m_baselined],axis=0)"
   ]
  },
  {
   "cell_type": "code",
   "execution_count": null,
   "metadata": {},
   "outputs": [],
   "source": []
  },
  {
   "cell_type": "code",
   "execution_count": 253,
   "metadata": {},
   "outputs": [],
   "source": [
    "frames = []\n",
    "for i in range(30):\n",
    "    temp = short_baselined[['CondType','Time',i]]\n",
    "    frames.append(temp.rename(columns={temp.columns[-1]:'Pupil'}))\n",
    "    "
   ]
  },
  {
   "cell_type": "code",
   "execution_count": null,
   "metadata": {},
   "outputs": [],
   "source": []
  },
  {
   "cell_type": "code",
   "execution_count": 254,
   "metadata": {},
   "outputs": [],
   "source": [
    "long_baselined = pd.concat(frames)\n",
    "long_baselined.dropna(inplace=True)"
   ]
  },
  {
   "cell_type": "code",
   "execution_count": 255,
   "metadata": {},
   "outputs": [],
   "source": [
    "short_baselined.to_csv(short_path+sub_ids[subject_no][0]+'_baselined_ifix.csv')\n",
    "long_baselined.to_csv(long_path+sub_ids[subject_no][0]+'_baselined_ifix.csv')"
   ]
  },
  {
   "cell_type": "code",
   "execution_count": null,
   "metadata": {},
   "outputs": [],
   "source": []
  },
  {
   "cell_type": "code",
   "execution_count": null,
   "metadata": {},
   "outputs": [],
   "source": []
  },
  {
   "cell_type": "code",
   "execution_count": 34,
   "metadata": {},
   "outputs": [],
   "source": [
    "long_no_report = pd.read_csv(long_path+sub_ids[subject_no][0]+'_baselined_ifix.csv',index_col=0)"
   ]
  },
  {
   "cell_type": "code",
   "execution_count": 35,
   "metadata": {},
   "outputs": [],
   "source": [
    "long_no_report = long_no_report[long_no_report['CondType'].str.match('No Report')]"
   ]
  },
  {
   "cell_type": "code",
   "execution_count": 37,
   "metadata": {},
   "outputs": [
    {
     "data": {
      "text/plain": [
       "(75000, 3)"
      ]
     },
     "execution_count": 37,
     "metadata": {},
     "output_type": "execute_result"
    }
   ],
   "source": [
    "long_no_report['Early']='Early'\n",
    "long_no_report.loc[long_no_report.shape[0]/2:,'Early']='Late'"
   ]
  },
  {
   "cell_type": "code",
   "execution_count": 38,
   "metadata": {},
   "outputs": [
    {
     "data": {
      "text/plain": [
       "75000"
      ]
     },
     "execution_count": 38,
     "metadata": {},
     "output_type": "execute_result"
    }
   ],
   "source": [
    "long_no_report.shape[0]"
   ]
  },
  {
   "cell_type": "code",
   "execution_count": null,
   "metadata": {},
   "outputs": [],
   "source": []
  },
  {
   "cell_type": "code",
   "execution_count": null,
   "metadata": {},
   "outputs": [],
   "source": []
  },
  {
   "cell_type": "code",
   "execution_count": null,
   "metadata": {},
   "outputs": [],
   "source": []
  },
  {
   "cell_type": "code",
   "execution_count": 82,
   "metadata": {},
   "outputs": [],
   "source": [
    "# Remove beginning and end of the data\n"
   ]
  },
  {
   "cell_type": "code",
   "execution_count": 83,
   "metadata": {},
   "outputs": [],
   "source": [
    "nr_interp_mean = np.mean(nr_trials_interp.values[:,chop_amount:-chop_amount],axis=0)\n",
    "s_interp_mean = np.mean(s_trials_interp.values[:,chop_amount:-chop_amount],axis=0)\n",
    "w_interp_mean = np.mean(w_trials_interp.values[:,chop_amount:-chop_amount],axis=0)\n",
    "i_interp_mean = np.mean(i_trials_interp.values[:,chop_amount:-chop_amount],axis=0)\n",
    "m_interp_mean = np.mean(m_trials_interp.values[:,chop_amount:-chop_amount],axis=0)\n",
    "# XX=np.array([i for i in range(0,nr_interp_mean.shape[0])])*0.002-2"
   ]
  },
  {
   "cell_type": "code",
   "execution_count": 91,
   "metadata": {},
   "outputs": [
    {
     "data": {
      "text/plain": [
       "(2000,)"
      ]
     },
     "execution_count": 91,
     "metadata": {},
     "output_type": "execute_result"
    }
   ],
   "source": [
    "nr_interp_mean.shape"
   ]
  },
  {
   "cell_type": "code",
   "execution_count": 92,
   "metadata": {},
   "outputs": [
    {
     "data": {
      "text/plain": [
       "[<matplotlib.lines.Line2D at 0x2ca0f256d30>]"
      ]
     },
     "execution_count": 92,
     "metadata": {},
     "output_type": "execute_result"
    },
    {
     "data": {
      "image/png": "[encoded data removed]",
      "text/plain": [
       "<Figure size 432x288 with 1 Axes>"
      ]
     },
     "metadata": {
      "needs_background": "light"
     },
     "output_type": "display_data"
    }
   ],
   "source": [
    "plt.plot(nr_interp_mean)"
   ]
  },
  {
   "cell_type": "code",
   "execution_count": 428,
   "metadata": {},
   "outputs": [
    {
     "data": {
      "text/plain": [
       "[<matplotlib.lines.Line2D at 0x1f76305ba20>]"
      ]
     },
     "execution_count": 428,
     "metadata": {},
     "output_type": "execute_result"
    },
    {
     "data": {
      "image/png": "[encoded data removed]",
      "text/plain": [
       "<Figure size 432x288 with 1 Axes>"
      ]
     },
     "metadata": {
      "needs_background": "light"
     },
     "output_type": "display_data"
    }
   ],
   "source": [
    "plt.plot(s_interp_mean)"
   ]
  },
  {
   "cell_type": "code",
   "execution_count": 429,
   "metadata": {},
   "outputs": [
    {
     "data": {
      "text/plain": [
       "[<matplotlib.lines.Line2D at 0x1f77c9129e8>]"
      ]
     },
     "execution_count": 429,
     "metadata": {},
     "output_type": "execute_result"
    },
    {
     "data": {
      "image/png": "[encoded data removed]",
      "text/plain": [
       "<Figure size 432x288 with 1 Axes>"
      ]
     },
     "metadata": {
      "needs_background": "light"
     },
     "output_type": "display_data"
    }
   ],
   "source": [
    "plt.plot((w_interp_mean))"
   ]
  },
  {
   "cell_type": "code",
   "execution_count": 430,
   "metadata": {},
   "outputs": [
    {
     "data": {
      "text/plain": [
       "[<matplotlib.lines.Line2D at 0x1f7039f5860>]"
      ]
     },
     "execution_count": 430,
     "metadata": {},
     "output_type": "execute_result"
    },
    {
     "data": {
      "image/png": "[encoded data removed]",
      "text/plain": [
       "<Figure size 432x288 with 1 Axes>"
      ]
     },
     "metadata": {
      "needs_background": "light"
     },
     "output_type": "display_data"
    }
   ],
   "source": [
    "plt.plot(i_interp_mean)"
   ]
  },
  {
   "cell_type": "code",
   "execution_count": 431,
   "metadata": {},
   "outputs": [
    {
     "data": {
      "text/plain": [
       "[<matplotlib.lines.Line2D at 0x1f76ea2a7b8>]"
      ]
     },
     "execution_count": 431,
     "metadata": {},
     "output_type": "execute_result"
    },
    {
     "data": {
      "image/png": "[encoded data removed]",
      "text/plain": [
       "<Figure size 432x288 with 1 Axes>"
      ]
     },
     "metadata": {
      "needs_background": "light"
     },
     "output_type": "display_data"
    }
   ],
   "source": [
    "plt.plot(m_interp_mean)"
   ]
  },
  {
   "cell_type": "code",
   "execution_count": null,
   "metadata": {},
   "outputs": [],
   "source": []
  },
  {
   "cell_type": "code",
   "execution_count": 301,
   "metadata": {},
   "outputs": [
    {
     "data": {
      "text/html": [
       "<div>\n",
       "<style scoped>\n",
       "    .dataframe tbody tr th:only-of-type {\n",
       "        vertical-align: middle;\n",
       "    }\n",
       "\n",
       "    .dataframe tbody tr th {\n",
       "        vertical-align: top;\n",
       "    }\n",
       "\n",
       "    .dataframe thead th {\n",
       "        text-align: right;\n",
       "    }\n",
       "</style>\n",
       "<table border=\"1\" class=\"dataframe\">\n",
       "  <thead>\n",
       "    <tr style=\"text-align: right;\">\n",
       "      <th></th>\n",
       "      <th>0</th>\n",
       "      <th>1</th>\n",
       "      <th>2</th>\n",
       "      <th>3</th>\n",
       "      <th>4</th>\n",
       "      <th>5</th>\n",
       "      <th>6</th>\n",
       "      <th>7</th>\n",
       "      <th>8</th>\n",
       "      <th>9</th>\n",
       "      <th>...</th>\n",
       "      <th>20</th>\n",
       "      <th>21</th>\n",
       "      <th>22</th>\n",
       "      <th>23</th>\n",
       "      <th>24</th>\n",
       "      <th>25</th>\n",
       "      <th>26</th>\n",
       "      <th>27</th>\n",
       "      <th>28</th>\n",
       "      <th>29</th>\n",
       "    </tr>\n",
       "  </thead>\n",
       "  <tbody>\n",
       "    <tr>\n",
       "      <th>0</th>\n",
       "      <td>442.0</td>\n",
       "      <td>398.0</td>\n",
       "      <td>385.0</td>\n",
       "      <td>395.0</td>\n",
       "      <td>391.0</td>\n",
       "      <td>380.0</td>\n",
       "      <td>408.0</td>\n",
       "      <td>359.0</td>\n",
       "      <td>392.0</td>\n",
       "      <td>408.0</td>\n",
       "      <td>...</td>\n",
       "      <td>353.000000</td>\n",
       "      <td>386.0</td>\n",
       "      <td>427.0</td>\n",
       "      <td>313.0</td>\n",
       "      <td>446.0</td>\n",
       "      <td>388.0</td>\n",
       "      <td>329.0</td>\n",
       "      <td>373.0</td>\n",
       "      <td>287.0</td>\n",
       "      <td>372.0</td>\n",
       "    </tr>\n",
       "    <tr>\n",
       "      <th>1</th>\n",
       "      <td>442.0</td>\n",
       "      <td>398.0</td>\n",
       "      <td>385.0</td>\n",
       "      <td>395.0</td>\n",
       "      <td>391.0</td>\n",
       "      <td>381.0</td>\n",
       "      <td>408.0</td>\n",
       "      <td>359.0</td>\n",
       "      <td>392.0</td>\n",
       "      <td>408.0</td>\n",
       "      <td>...</td>\n",
       "      <td>354.000000</td>\n",
       "      <td>385.0</td>\n",
       "      <td>428.0</td>\n",
       "      <td>312.0</td>\n",
       "      <td>446.0</td>\n",
       "      <td>388.0</td>\n",
       "      <td>329.0</td>\n",
       "      <td>374.0</td>\n",
       "      <td>293.0</td>\n",
       "      <td>372.0</td>\n",
       "    </tr>\n",
       "    <tr>\n",
       "      <th>2</th>\n",
       "      <td>442.0</td>\n",
       "      <td>399.0</td>\n",
       "      <td>386.0</td>\n",
       "      <td>394.0</td>\n",
       "      <td>392.0</td>\n",
       "      <td>381.0</td>\n",
       "      <td>408.0</td>\n",
       "      <td>359.0</td>\n",
       "      <td>391.0</td>\n",
       "      <td>408.0</td>\n",
       "      <td>...</td>\n",
       "      <td>354.000000</td>\n",
       "      <td>384.0</td>\n",
       "      <td>428.0</td>\n",
       "      <td>312.0</td>\n",
       "      <td>446.0</td>\n",
       "      <td>388.0</td>\n",
       "      <td>329.0</td>\n",
       "      <td>374.0</td>\n",
       "      <td>296.0</td>\n",
       "      <td>372.0</td>\n",
       "    </tr>\n",
       "    <tr>\n",
       "      <th>3</th>\n",
       "      <td>443.0</td>\n",
       "      <td>399.0</td>\n",
       "      <td>385.0</td>\n",
       "      <td>395.0</td>\n",
       "      <td>393.0</td>\n",
       "      <td>381.0</td>\n",
       "      <td>408.0</td>\n",
       "      <td>358.0</td>\n",
       "      <td>392.0</td>\n",
       "      <td>408.0</td>\n",
       "      <td>...</td>\n",
       "      <td>354.000000</td>\n",
       "      <td>384.0</td>\n",
       "      <td>428.0</td>\n",
       "      <td>311.0</td>\n",
       "      <td>447.0</td>\n",
       "      <td>387.0</td>\n",
       "      <td>329.0</td>\n",
       "      <td>374.0</td>\n",
       "      <td>298.0</td>\n",
       "      <td>373.0</td>\n",
       "    </tr>\n",
       "    <tr>\n",
       "      <th>4</th>\n",
       "      <td>443.0</td>\n",
       "      <td>398.0</td>\n",
       "      <td>385.0</td>\n",
       "      <td>395.0</td>\n",
       "      <td>394.0</td>\n",
       "      <td>380.0</td>\n",
       "      <td>407.0</td>\n",
       "      <td>358.0</td>\n",
       "      <td>392.0</td>\n",
       "      <td>408.0</td>\n",
       "      <td>...</td>\n",
       "      <td>354.000000</td>\n",
       "      <td>385.0</td>\n",
       "      <td>427.0</td>\n",
       "      <td>312.0</td>\n",
       "      <td>447.0</td>\n",
       "      <td>387.0</td>\n",
       "      <td>329.0</td>\n",
       "      <td>374.0</td>\n",
       "      <td>297.0</td>\n",
       "      <td>373.0</td>\n",
       "    </tr>\n",
       "    <tr>\n",
       "      <th>5</th>\n",
       "      <td>443.0</td>\n",
       "      <td>398.0</td>\n",
       "      <td>384.0</td>\n",
       "      <td>395.0</td>\n",
       "      <td>394.0</td>\n",
       "      <td>380.0</td>\n",
       "      <td>406.0</td>\n",
       "      <td>359.0</td>\n",
       "      <td>392.0</td>\n",
       "      <td>408.0</td>\n",
       "      <td>...</td>\n",
       "      <td>354.000000</td>\n",
       "      <td>385.0</td>\n",
       "      <td>426.0</td>\n",
       "      <td>313.0</td>\n",
       "      <td>447.0</td>\n",
       "      <td>387.0</td>\n",
       "      <td>329.0</td>\n",
       "      <td>374.0</td>\n",
       "      <td>298.0</td>\n",
       "      <td>374.0</td>\n",
       "    </tr>\n",
       "    <tr>\n",
       "      <th>6</th>\n",
       "      <td>443.0</td>\n",
       "      <td>398.0</td>\n",
       "      <td>384.0</td>\n",
       "      <td>394.0</td>\n",
       "      <td>394.0</td>\n",
       "      <td>379.0</td>\n",
       "      <td>406.0</td>\n",
       "      <td>359.0</td>\n",
       "      <td>392.0</td>\n",
       "      <td>407.0</td>\n",
       "      <td>...</td>\n",
       "      <td>353.000000</td>\n",
       "      <td>385.0</td>\n",
       "      <td>425.0</td>\n",
       "      <td>314.0</td>\n",
       "      <td>446.0</td>\n",
       "      <td>387.0</td>\n",
       "      <td>329.0</td>\n",
       "      <td>373.0</td>\n",
       "      <td>298.0</td>\n",
       "      <td>374.0</td>\n",
       "    </tr>\n",
       "    <tr>\n",
       "      <th>7</th>\n",
       "      <td>442.0</td>\n",
       "      <td>398.0</td>\n",
       "      <td>385.0</td>\n",
       "      <td>394.0</td>\n",
       "      <td>394.0</td>\n",
       "      <td>379.0</td>\n",
       "      <td>406.0</td>\n",
       "      <td>358.0</td>\n",
       "      <td>392.0</td>\n",
       "      <td>407.0</td>\n",
       "      <td>...</td>\n",
       "      <td>354.000000</td>\n",
       "      <td>386.0</td>\n",
       "      <td>425.0</td>\n",
       "      <td>314.0</td>\n",
       "      <td>445.0</td>\n",
       "      <td>388.0</td>\n",
       "      <td>329.0</td>\n",
       "      <td>373.0</td>\n",
       "      <td>299.0</td>\n",
       "      <td>374.0</td>\n",
       "    </tr>\n",
       "    <tr>\n",
       "      <th>8</th>\n",
       "      <td>442.0</td>\n",
       "      <td>399.0</td>\n",
       "      <td>385.0</td>\n",
       "      <td>395.0</td>\n",
       "      <td>394.0</td>\n",
       "      <td>379.0</td>\n",
       "      <td>406.0</td>\n",
       "      <td>358.0</td>\n",
       "      <td>392.0</td>\n",
       "      <td>407.0</td>\n",
       "      <td>...</td>\n",
       "      <td>352.000000</td>\n",
       "      <td>386.0</td>\n",
       "      <td>425.0</td>\n",
       "      <td>314.0</td>\n",
       "      <td>445.0</td>\n",
       "      <td>388.0</td>\n",
       "      <td>329.0</td>\n",
       "      <td>373.0</td>\n",
       "      <td>299.0</td>\n",
       "      <td>374.0</td>\n",
       "    </tr>\n",
       "    <tr>\n",
       "      <th>9</th>\n",
       "      <td>443.0</td>\n",
       "      <td>400.0</td>\n",
       "      <td>386.0</td>\n",
       "      <td>396.0</td>\n",
       "      <td>394.0</td>\n",
       "      <td>379.0</td>\n",
       "      <td>406.0</td>\n",
       "      <td>358.0</td>\n",
       "      <td>393.0</td>\n",
       "      <td>407.0</td>\n",
       "      <td>...</td>\n",
       "      <td>351.000000</td>\n",
       "      <td>387.0</td>\n",
       "      <td>425.0</td>\n",
       "      <td>313.0</td>\n",
       "      <td>445.0</td>\n",
       "      <td>389.0</td>\n",
       "      <td>329.0</td>\n",
       "      <td>373.0</td>\n",
       "      <td>297.0</td>\n",
       "      <td>374.0</td>\n",
       "    </tr>\n",
       "    <tr>\n",
       "      <th>10</th>\n",
       "      <td>443.0</td>\n",
       "      <td>400.0</td>\n",
       "      <td>386.0</td>\n",
       "      <td>397.0</td>\n",
       "      <td>394.0</td>\n",
       "      <td>379.0</td>\n",
       "      <td>406.0</td>\n",
       "      <td>357.0</td>\n",
       "      <td>395.0</td>\n",
       "      <td>408.0</td>\n",
       "      <td>...</td>\n",
       "      <td>351.000000</td>\n",
       "      <td>386.0</td>\n",
       "      <td>426.0</td>\n",
       "      <td>313.0</td>\n",
       "      <td>445.0</td>\n",
       "      <td>390.0</td>\n",
       "      <td>329.0</td>\n",
       "      <td>373.0</td>\n",
       "      <td>294.0</td>\n",
       "      <td>375.0</td>\n",
       "    </tr>\n",
       "    <tr>\n",
       "      <th>11</th>\n",
       "      <td>443.0</td>\n",
       "      <td>400.0</td>\n",
       "      <td>386.0</td>\n",
       "      <td>397.0</td>\n",
       "      <td>394.0</td>\n",
       "      <td>380.0</td>\n",
       "      <td>405.0</td>\n",
       "      <td>357.0</td>\n",
       "      <td>397.0</td>\n",
       "      <td>408.0</td>\n",
       "      <td>...</td>\n",
       "      <td>351.000000</td>\n",
       "      <td>386.0</td>\n",
       "      <td>426.0</td>\n",
       "      <td>313.0</td>\n",
       "      <td>445.0</td>\n",
       "      <td>390.0</td>\n",
       "      <td>329.0</td>\n",
       "      <td>373.0</td>\n",
       "      <td>292.0</td>\n",
       "      <td>375.0</td>\n",
       "    </tr>\n",
       "    <tr>\n",
       "      <th>12</th>\n",
       "      <td>443.0</td>\n",
       "      <td>401.0</td>\n",
       "      <td>385.0</td>\n",
       "      <td>397.0</td>\n",
       "      <td>394.0</td>\n",
       "      <td>381.0</td>\n",
       "      <td>405.0</td>\n",
       "      <td>357.0</td>\n",
       "      <td>399.0</td>\n",
       "      <td>407.0</td>\n",
       "      <td>...</td>\n",
       "      <td>352.000000</td>\n",
       "      <td>384.0</td>\n",
       "      <td>426.0</td>\n",
       "      <td>313.0</td>\n",
       "      <td>446.0</td>\n",
       "      <td>389.0</td>\n",
       "      <td>330.0</td>\n",
       "      <td>373.0</td>\n",
       "      <td>292.0</td>\n",
       "      <td>375.0</td>\n",
       "    </tr>\n",
       "    <tr>\n",
       "      <th>13</th>\n",
       "      <td>443.0</td>\n",
       "      <td>402.0</td>\n",
       "      <td>385.0</td>\n",
       "      <td>396.0</td>\n",
       "      <td>394.0</td>\n",
       "      <td>381.0</td>\n",
       "      <td>405.0</td>\n",
       "      <td>356.0</td>\n",
       "      <td>399.0</td>\n",
       "      <td>407.0</td>\n",
       "      <td>...</td>\n",
       "      <td>352.000000</td>\n",
       "      <td>383.0</td>\n",
       "      <td>426.0</td>\n",
       "      <td>312.0</td>\n",
       "      <td>446.0</td>\n",
       "      <td>389.0</td>\n",
       "      <td>331.0</td>\n",
       "      <td>374.0</td>\n",
       "      <td>291.0</td>\n",
       "      <td>375.0</td>\n",
       "    </tr>\n",
       "    <tr>\n",
       "      <th>14</th>\n",
       "      <td>442.0</td>\n",
       "      <td>402.0</td>\n",
       "      <td>386.0</td>\n",
       "      <td>396.0</td>\n",
       "      <td>394.0</td>\n",
       "      <td>381.0</td>\n",
       "      <td>405.0</td>\n",
       "      <td>356.0</td>\n",
       "      <td>399.0</td>\n",
       "      <td>407.0</td>\n",
       "      <td>...</td>\n",
       "      <td>352.000000</td>\n",
       "      <td>382.0</td>\n",
       "      <td>426.0</td>\n",
       "      <td>312.0</td>\n",
       "      <td>446.0</td>\n",
       "      <td>388.0</td>\n",
       "      <td>332.0</td>\n",
       "      <td>375.0</td>\n",
       "      <td>291.0</td>\n",
       "      <td>375.0</td>\n",
       "    </tr>\n",
       "    <tr>\n",
       "      <th>15</th>\n",
       "      <td>443.0</td>\n",
       "      <td>402.0</td>\n",
       "      <td>386.0</td>\n",
       "      <td>396.0</td>\n",
       "      <td>393.0</td>\n",
       "      <td>381.0</td>\n",
       "      <td>406.0</td>\n",
       "      <td>356.0</td>\n",
       "      <td>399.0</td>\n",
       "      <td>407.0</td>\n",
       "      <td>...</td>\n",
       "      <td>352.000000</td>\n",
       "      <td>382.0</td>\n",
       "      <td>426.0</td>\n",
       "      <td>312.0</td>\n",
       "      <td>446.0</td>\n",
       "      <td>388.0</td>\n",
       "      <td>332.0</td>\n",
       "      <td>375.0</td>\n",
       "      <td>290.0</td>\n",
       "      <td>375.0</td>\n",
       "    </tr>\n",
       "    <tr>\n",
       "      <th>16</th>\n",
       "      <td>444.0</td>\n",
       "      <td>403.0</td>\n",
       "      <td>386.0</td>\n",
       "      <td>397.0</td>\n",
       "      <td>393.0</td>\n",
       "      <td>381.0</td>\n",
       "      <td>406.0</td>\n",
       "      <td>356.0</td>\n",
       "      <td>398.0</td>\n",
       "      <td>407.0</td>\n",
       "      <td>...</td>\n",
       "      <td>352.000000</td>\n",
       "      <td>383.0</td>\n",
       "      <td>426.0</td>\n",
       "      <td>312.0</td>\n",
       "      <td>446.0</td>\n",
       "      <td>389.0</td>\n",
       "      <td>332.0</td>\n",
       "      <td>375.0</td>\n",
       "      <td>290.0</td>\n",
       "      <td>375.0</td>\n",
       "    </tr>\n",
       "    <tr>\n",
       "      <th>17</th>\n",
       "      <td>444.0</td>\n",
       "      <td>403.0</td>\n",
       "      <td>386.0</td>\n",
       "      <td>397.0</td>\n",
       "      <td>392.0</td>\n",
       "      <td>382.0</td>\n",
       "      <td>406.0</td>\n",
       "      <td>356.0</td>\n",
       "      <td>397.0</td>\n",
       "      <td>408.0</td>\n",
       "      <td>...</td>\n",
       "      <td>351.000000</td>\n",
       "      <td>384.0</td>\n",
       "      <td>426.0</td>\n",
       "      <td>312.0</td>\n",
       "      <td>447.0</td>\n",
       "      <td>389.0</td>\n",
       "      <td>332.0</td>\n",
       "      <td>375.0</td>\n",
       "      <td>291.0</td>\n",
       "      <td>375.0</td>\n",
       "    </tr>\n",
       "    <tr>\n",
       "      <th>18</th>\n",
       "      <td>444.0</td>\n",
       "      <td>402.0</td>\n",
       "      <td>386.0</td>\n",
       "      <td>398.0</td>\n",
       "      <td>393.0</td>\n",
       "      <td>382.0</td>\n",
       "      <td>406.0</td>\n",
       "      <td>356.0</td>\n",
       "      <td>396.0</td>\n",
       "      <td>408.0</td>\n",
       "      <td>...</td>\n",
       "      <td>351.000000</td>\n",
       "      <td>385.0</td>\n",
       "      <td>427.0</td>\n",
       "      <td>312.0</td>\n",
       "      <td>447.0</td>\n",
       "      <td>389.0</td>\n",
       "      <td>331.0</td>\n",
       "      <td>375.0</td>\n",
       "      <td>292.0</td>\n",
       "      <td>374.0</td>\n",
       "    </tr>\n",
       "    <tr>\n",
       "      <th>19</th>\n",
       "      <td>444.0</td>\n",
       "      <td>402.0</td>\n",
       "      <td>386.0</td>\n",
       "      <td>398.0</td>\n",
       "      <td>393.0</td>\n",
       "      <td>382.0</td>\n",
       "      <td>405.0</td>\n",
       "      <td>356.0</td>\n",
       "      <td>396.0</td>\n",
       "      <td>408.0</td>\n",
       "      <td>...</td>\n",
       "      <td>350.000000</td>\n",
       "      <td>384.0</td>\n",
       "      <td>428.0</td>\n",
       "      <td>312.0</td>\n",
       "      <td>446.0</td>\n",
       "      <td>389.0</td>\n",
       "      <td>331.0</td>\n",
       "      <td>376.0</td>\n",
       "      <td>292.0</td>\n",
       "      <td>374.0</td>\n",
       "    </tr>\n",
       "    <tr>\n",
       "      <th>20</th>\n",
       "      <td>444.0</td>\n",
       "      <td>402.0</td>\n",
       "      <td>385.0</td>\n",
       "      <td>399.0</td>\n",
       "      <td>393.0</td>\n",
       "      <td>382.0</td>\n",
       "      <td>406.0</td>\n",
       "      <td>355.0</td>\n",
       "      <td>395.0</td>\n",
       "      <td>409.0</td>\n",
       "      <td>...</td>\n",
       "      <td>350.000000</td>\n",
       "      <td>383.0</td>\n",
       "      <td>429.0</td>\n",
       "      <td>312.0</td>\n",
       "      <td>446.0</td>\n",
       "      <td>390.0</td>\n",
       "      <td>331.0</td>\n",
       "      <td>376.0</td>\n",
       "      <td>291.0</td>\n",
       "      <td>374.0</td>\n",
       "    </tr>\n",
       "    <tr>\n",
       "      <th>21</th>\n",
       "      <td>444.0</td>\n",
       "      <td>402.0</td>\n",
       "      <td>384.0</td>\n",
       "      <td>399.0</td>\n",
       "      <td>393.0</td>\n",
       "      <td>382.0</td>\n",
       "      <td>406.0</td>\n",
       "      <td>355.0</td>\n",
       "      <td>395.0</td>\n",
       "      <td>408.0</td>\n",
       "      <td>...</td>\n",
       "      <td>349.000000</td>\n",
       "      <td>382.0</td>\n",
       "      <td>429.0</td>\n",
       "      <td>313.0</td>\n",
       "      <td>445.0</td>\n",
       "      <td>390.0</td>\n",
       "      <td>331.0</td>\n",
       "      <td>377.0</td>\n",
       "      <td>291.0</td>\n",
       "      <td>374.0</td>\n",
       "    </tr>\n",
       "    <tr>\n",
       "      <th>22</th>\n",
       "      <td>444.0</td>\n",
       "      <td>402.0</td>\n",
       "      <td>384.0</td>\n",
       "      <td>399.0</td>\n",
       "      <td>393.0</td>\n",
       "      <td>382.0</td>\n",
       "      <td>407.0</td>\n",
       "      <td>355.0</td>\n",
       "      <td>395.0</td>\n",
       "      <td>408.0</td>\n",
       "      <td>...</td>\n",
       "      <td>349.000000</td>\n",
       "      <td>381.0</td>\n",
       "      <td>429.0</td>\n",
       "      <td>313.0</td>\n",
       "      <td>446.0</td>\n",
       "      <td>391.0</td>\n",
       "      <td>331.0</td>\n",
       "      <td>377.0</td>\n",
       "      <td>291.0</td>\n",
       "      <td>374.0</td>\n",
       "    </tr>\n",
       "    <tr>\n",
       "      <th>23</th>\n",
       "      <td>443.0</td>\n",
       "      <td>402.0</td>\n",
       "      <td>384.0</td>\n",
       "      <td>399.0</td>\n",
       "      <td>392.0</td>\n",
       "      <td>382.0</td>\n",
       "      <td>407.0</td>\n",
       "      <td>354.0</td>\n",
       "      <td>395.0</td>\n",
       "      <td>407.0</td>\n",
       "      <td>...</td>\n",
       "      <td>349.000000</td>\n",
       "      <td>380.0</td>\n",
       "      <td>429.0</td>\n",
       "      <td>312.0</td>\n",
       "      <td>447.0</td>\n",
       "      <td>391.0</td>\n",
       "      <td>332.0</td>\n",
       "      <td>378.0</td>\n",
       "      <td>291.0</td>\n",
       "      <td>374.0</td>\n",
       "    </tr>\n",
       "    <tr>\n",
       "      <th>24</th>\n",
       "      <td>443.0</td>\n",
       "      <td>402.0</td>\n",
       "      <td>385.0</td>\n",
       "      <td>399.0</td>\n",
       "      <td>393.0</td>\n",
       "      <td>382.0</td>\n",
       "      <td>406.0</td>\n",
       "      <td>354.0</td>\n",
       "      <td>394.0</td>\n",
       "      <td>407.0</td>\n",
       "      <td>...</td>\n",
       "      <td>350.000000</td>\n",
       "      <td>379.0</td>\n",
       "      <td>429.0</td>\n",
       "      <td>314.0</td>\n",
       "      <td>448.0</td>\n",
       "      <td>391.0</td>\n",
       "      <td>332.0</td>\n",
       "      <td>380.0</td>\n",
       "      <td>291.0</td>\n",
       "      <td>374.0</td>\n",
       "    </tr>\n",
       "    <tr>\n",
       "      <th>25</th>\n",
       "      <td>443.0</td>\n",
       "      <td>402.0</td>\n",
       "      <td>384.0</td>\n",
       "      <td>400.0</td>\n",
       "      <td>394.0</td>\n",
       "      <td>383.0</td>\n",
       "      <td>406.0</td>\n",
       "      <td>354.0</td>\n",
       "      <td>393.0</td>\n",
       "      <td>406.0</td>\n",
       "      <td>...</td>\n",
       "      <td>351.000000</td>\n",
       "      <td>379.0</td>\n",
       "      <td>429.0</td>\n",
       "      <td>316.0</td>\n",
       "      <td>448.0</td>\n",
       "      <td>391.0</td>\n",
       "      <td>332.0</td>\n",
       "      <td>379.0</td>\n",
       "      <td>292.0</td>\n",
       "      <td>374.0</td>\n",
       "    </tr>\n",
       "    <tr>\n",
       "      <th>26</th>\n",
       "      <td>443.0</td>\n",
       "      <td>402.0</td>\n",
       "      <td>384.0</td>\n",
       "      <td>400.0</td>\n",
       "      <td>395.0</td>\n",
       "      <td>383.0</td>\n",
       "      <td>405.0</td>\n",
       "      <td>354.0</td>\n",
       "      <td>392.0</td>\n",
       "      <td>406.0</td>\n",
       "      <td>...</td>\n",
       "      <td>351.000000</td>\n",
       "      <td>379.0</td>\n",
       "      <td>429.0</td>\n",
       "      <td>317.0</td>\n",
       "      <td>448.0</td>\n",
       "      <td>390.0</td>\n",
       "      <td>331.0</td>\n",
       "      <td>377.0</td>\n",
       "      <td>293.0</td>\n",
       "      <td>374.0</td>\n",
       "    </tr>\n",
       "    <tr>\n",
       "      <th>27</th>\n",
       "      <td>443.0</td>\n",
       "      <td>402.0</td>\n",
       "      <td>384.0</td>\n",
       "      <td>400.0</td>\n",
       "      <td>395.0</td>\n",
       "      <td>384.0</td>\n",
       "      <td>404.0</td>\n",
       "      <td>354.0</td>\n",
       "      <td>392.0</td>\n",
       "      <td>407.0</td>\n",
       "      <td>...</td>\n",
       "      <td>351.000000</td>\n",
       "      <td>379.0</td>\n",
       "      <td>429.0</td>\n",
       "      <td>316.0</td>\n",
       "      <td>448.0</td>\n",
       "      <td>390.0</td>\n",
       "      <td>330.0</td>\n",
       "      <td>376.0</td>\n",
       "      <td>294.0</td>\n",
       "      <td>375.0</td>\n",
       "    </tr>\n",
       "    <tr>\n",
       "      <th>28</th>\n",
       "      <td>444.0</td>\n",
       "      <td>403.0</td>\n",
       "      <td>384.0</td>\n",
       "      <td>400.0</td>\n",
       "      <td>395.0</td>\n",
       "      <td>384.0</td>\n",
       "      <td>404.0</td>\n",
       "      <td>355.0</td>\n",
       "      <td>391.0</td>\n",
       "      <td>407.0</td>\n",
       "      <td>...</td>\n",
       "      <td>351.000000</td>\n",
       "      <td>379.0</td>\n",
       "      <td>429.0</td>\n",
       "      <td>316.0</td>\n",
       "      <td>448.0</td>\n",
       "      <td>390.0</td>\n",
       "      <td>330.0</td>\n",
       "      <td>377.0</td>\n",
       "      <td>294.0</td>\n",
       "      <td>375.0</td>\n",
       "    </tr>\n",
       "    <tr>\n",
       "      <th>29</th>\n",
       "      <td>444.0</td>\n",
       "      <td>402.0</td>\n",
       "      <td>385.0</td>\n",
       "      <td>400.0</td>\n",
       "      <td>395.0</td>\n",
       "      <td>384.0</td>\n",
       "      <td>404.0</td>\n",
       "      <td>355.0</td>\n",
       "      <td>392.0</td>\n",
       "      <td>408.0</td>\n",
       "      <td>...</td>\n",
       "      <td>350.000000</td>\n",
       "      <td>378.0</td>\n",
       "      <td>429.0</td>\n",
       "      <td>315.0</td>\n",
       "      <td>448.0</td>\n",
       "      <td>390.0</td>\n",
       "      <td>330.0</td>\n",
       "      <td>377.0</td>\n",
       "      <td>294.0</td>\n",
       "      <td>375.0</td>\n",
       "    </tr>\n",
       "    <tr>\n",
       "      <th>...</th>\n",
       "      <td>...</td>\n",
       "      <td>...</td>\n",
       "      <td>...</td>\n",
       "      <td>...</td>\n",
       "      <td>...</td>\n",
       "      <td>...</td>\n",
       "      <td>...</td>\n",
       "      <td>...</td>\n",
       "      <td>...</td>\n",
       "      <td>...</td>\n",
       "      <td>...</td>\n",
       "      <td>...</td>\n",
       "      <td>...</td>\n",
       "      <td>...</td>\n",
       "      <td>...</td>\n",
       "      <td>...</td>\n",
       "      <td>...</td>\n",
       "      <td>...</td>\n",
       "      <td>...</td>\n",
       "      <td>...</td>\n",
       "      <td>...</td>\n",
       "    </tr>\n",
       "    <tr>\n",
       "      <th>2970</th>\n",
       "      <td>388.0</td>\n",
       "      <td>422.0</td>\n",
       "      <td>397.0</td>\n",
       "      <td>416.0</td>\n",
       "      <td>419.0</td>\n",
       "      <td>369.0</td>\n",
       "      <td>401.0</td>\n",
       "      <td>400.0</td>\n",
       "      <td>465.0</td>\n",
       "      <td>442.0</td>\n",
       "      <td>...</td>\n",
       "      <td>354.264934</td>\n",
       "      <td>350.0</td>\n",
       "      <td>322.0</td>\n",
       "      <td>320.0</td>\n",
       "      <td>414.0</td>\n",
       "      <td>350.0</td>\n",
       "      <td>390.0</td>\n",
       "      <td>280.0</td>\n",
       "      <td>369.0</td>\n",
       "      <td>348.0</td>\n",
       "    </tr>\n",
       "    <tr>\n",
       "      <th>2971</th>\n",
       "      <td>388.0</td>\n",
       "      <td>422.0</td>\n",
       "      <td>397.0</td>\n",
       "      <td>416.0</td>\n",
       "      <td>419.0</td>\n",
       "      <td>369.0</td>\n",
       "      <td>401.0</td>\n",
       "      <td>400.0</td>\n",
       "      <td>465.0</td>\n",
       "      <td>442.0</td>\n",
       "      <td>...</td>\n",
       "      <td>354.195294</td>\n",
       "      <td>349.0</td>\n",
       "      <td>322.0</td>\n",
       "      <td>320.0</td>\n",
       "      <td>415.0</td>\n",
       "      <td>350.0</td>\n",
       "      <td>391.0</td>\n",
       "      <td>280.0</td>\n",
       "      <td>369.0</td>\n",
       "      <td>348.0</td>\n",
       "    </tr>\n",
       "    <tr>\n",
       "      <th>2972</th>\n",
       "      <td>387.0</td>\n",
       "      <td>423.0</td>\n",
       "      <td>397.0</td>\n",
       "      <td>417.0</td>\n",
       "      <td>418.0</td>\n",
       "      <td>369.0</td>\n",
       "      <td>401.0</td>\n",
       "      <td>400.0</td>\n",
       "      <td>465.0</td>\n",
       "      <td>442.0</td>\n",
       "      <td>...</td>\n",
       "      <td>354.126002</td>\n",
       "      <td>348.0</td>\n",
       "      <td>322.0</td>\n",
       "      <td>321.0</td>\n",
       "      <td>415.0</td>\n",
       "      <td>350.0</td>\n",
       "      <td>392.0</td>\n",
       "      <td>280.0</td>\n",
       "      <td>370.0</td>\n",
       "      <td>348.0</td>\n",
       "    </tr>\n",
       "    <tr>\n",
       "      <th>2973</th>\n",
       "      <td>386.0</td>\n",
       "      <td>424.0</td>\n",
       "      <td>397.0</td>\n",
       "      <td>417.0</td>\n",
       "      <td>418.0</td>\n",
       "      <td>369.0</td>\n",
       "      <td>401.0</td>\n",
       "      <td>400.0</td>\n",
       "      <td>465.0</td>\n",
       "      <td>441.0</td>\n",
       "      <td>...</td>\n",
       "      <td>356.000000</td>\n",
       "      <td>348.0</td>\n",
       "      <td>322.0</td>\n",
       "      <td>321.0</td>\n",
       "      <td>415.0</td>\n",
       "      <td>350.0</td>\n",
       "      <td>392.0</td>\n",
       "      <td>280.0</td>\n",
       "      <td>371.0</td>\n",
       "      <td>349.0</td>\n",
       "    </tr>\n",
       "    <tr>\n",
       "      <th>2974</th>\n",
       "      <td>386.0</td>\n",
       "      <td>424.0</td>\n",
       "      <td>397.0</td>\n",
       "      <td>417.0</td>\n",
       "      <td>418.0</td>\n",
       "      <td>368.0</td>\n",
       "      <td>401.0</td>\n",
       "      <td>400.0</td>\n",
       "      <td>465.0</td>\n",
       "      <td>441.0</td>\n",
       "      <td>...</td>\n",
       "      <td>355.000000</td>\n",
       "      <td>349.0</td>\n",
       "      <td>322.0</td>\n",
       "      <td>322.0</td>\n",
       "      <td>415.0</td>\n",
       "      <td>350.0</td>\n",
       "      <td>391.0</td>\n",
       "      <td>280.0</td>\n",
       "      <td>371.0</td>\n",
       "      <td>350.0</td>\n",
       "    </tr>\n",
       "    <tr>\n",
       "      <th>2975</th>\n",
       "      <td>386.0</td>\n",
       "      <td>424.0</td>\n",
       "      <td>397.0</td>\n",
       "      <td>417.0</td>\n",
       "      <td>418.0</td>\n",
       "      <td>368.0</td>\n",
       "      <td>401.0</td>\n",
       "      <td>399.0</td>\n",
       "      <td>466.0</td>\n",
       "      <td>442.0</td>\n",
       "      <td>...</td>\n",
       "      <td>355.000000</td>\n",
       "      <td>350.0</td>\n",
       "      <td>322.0</td>\n",
       "      <td>322.0</td>\n",
       "      <td>415.0</td>\n",
       "      <td>349.0</td>\n",
       "      <td>390.0</td>\n",
       "      <td>281.0</td>\n",
       "      <td>372.0</td>\n",
       "      <td>350.0</td>\n",
       "    </tr>\n",
       "    <tr>\n",
       "      <th>2976</th>\n",
       "      <td>386.0</td>\n",
       "      <td>424.0</td>\n",
       "      <td>398.0</td>\n",
       "      <td>417.0</td>\n",
       "      <td>417.0</td>\n",
       "      <td>368.0</td>\n",
       "      <td>401.0</td>\n",
       "      <td>399.0</td>\n",
       "      <td>466.0</td>\n",
       "      <td>442.0</td>\n",
       "      <td>...</td>\n",
       "      <td>354.000000</td>\n",
       "      <td>349.0</td>\n",
       "      <td>322.0</td>\n",
       "      <td>323.0</td>\n",
       "      <td>414.0</td>\n",
       "      <td>349.0</td>\n",
       "      <td>390.0</td>\n",
       "      <td>281.0</td>\n",
       "      <td>372.0</td>\n",
       "      <td>351.0</td>\n",
       "    </tr>\n",
       "    <tr>\n",
       "      <th>2977</th>\n",
       "      <td>386.0</td>\n",
       "      <td>424.0</td>\n",
       "      <td>398.0</td>\n",
       "      <td>417.0</td>\n",
       "      <td>417.0</td>\n",
       "      <td>368.0</td>\n",
       "      <td>401.0</td>\n",
       "      <td>399.0</td>\n",
       "      <td>467.0</td>\n",
       "      <td>442.0</td>\n",
       "      <td>...</td>\n",
       "      <td>353.000000</td>\n",
       "      <td>349.0</td>\n",
       "      <td>322.0</td>\n",
       "      <td>323.0</td>\n",
       "      <td>414.0</td>\n",
       "      <td>349.0</td>\n",
       "      <td>391.0</td>\n",
       "      <td>281.0</td>\n",
       "      <td>372.0</td>\n",
       "      <td>350.0</td>\n",
       "    </tr>\n",
       "    <tr>\n",
       "      <th>2978</th>\n",
       "      <td>386.0</td>\n",
       "      <td>424.0</td>\n",
       "      <td>398.0</td>\n",
       "      <td>417.0</td>\n",
       "      <td>417.0</td>\n",
       "      <td>368.0</td>\n",
       "      <td>401.0</td>\n",
       "      <td>399.0</td>\n",
       "      <td>467.0</td>\n",
       "      <td>442.0</td>\n",
       "      <td>...</td>\n",
       "      <td>352.000000</td>\n",
       "      <td>349.0</td>\n",
       "      <td>322.0</td>\n",
       "      <td>323.0</td>\n",
       "      <td>414.0</td>\n",
       "      <td>349.0</td>\n",
       "      <td>391.0</td>\n",
       "      <td>281.0</td>\n",
       "      <td>373.0</td>\n",
       "      <td>350.0</td>\n",
       "    </tr>\n",
       "    <tr>\n",
       "      <th>2979</th>\n",
       "      <td>387.0</td>\n",
       "      <td>424.0</td>\n",
       "      <td>397.0</td>\n",
       "      <td>417.0</td>\n",
       "      <td>416.0</td>\n",
       "      <td>368.0</td>\n",
       "      <td>401.0</td>\n",
       "      <td>400.0</td>\n",
       "      <td>467.0</td>\n",
       "      <td>442.0</td>\n",
       "      <td>...</td>\n",
       "      <td>352.000000</td>\n",
       "      <td>349.0</td>\n",
       "      <td>322.0</td>\n",
       "      <td>323.0</td>\n",
       "      <td>414.0</td>\n",
       "      <td>349.0</td>\n",
       "      <td>392.0</td>\n",
       "      <td>281.0</td>\n",
       "      <td>373.0</td>\n",
       "      <td>349.0</td>\n",
       "    </tr>\n",
       "    <tr>\n",
       "      <th>2980</th>\n",
       "      <td>387.0</td>\n",
       "      <td>425.0</td>\n",
       "      <td>397.0</td>\n",
       "      <td>417.0</td>\n",
       "      <td>415.0</td>\n",
       "      <td>367.0</td>\n",
       "      <td>401.0</td>\n",
       "      <td>399.0</td>\n",
       "      <td>467.0</td>\n",
       "      <td>442.0</td>\n",
       "      <td>...</td>\n",
       "      <td>352.000000</td>\n",
       "      <td>349.0</td>\n",
       "      <td>322.0</td>\n",
       "      <td>323.0</td>\n",
       "      <td>414.0</td>\n",
       "      <td>350.0</td>\n",
       "      <td>392.0</td>\n",
       "      <td>281.0</td>\n",
       "      <td>373.0</td>\n",
       "      <td>349.0</td>\n",
       "    </tr>\n",
       "    <tr>\n",
       "      <th>2981</th>\n",
       "      <td>388.0</td>\n",
       "      <td>426.0</td>\n",
       "      <td>398.0</td>\n",
       "      <td>416.0</td>\n",
       "      <td>414.0</td>\n",
       "      <td>367.0</td>\n",
       "      <td>402.0</td>\n",
       "      <td>398.0</td>\n",
       "      <td>467.0</td>\n",
       "      <td>442.0</td>\n",
       "      <td>...</td>\n",
       "      <td>353.000000</td>\n",
       "      <td>349.0</td>\n",
       "      <td>322.0</td>\n",
       "      <td>325.0</td>\n",
       "      <td>414.0</td>\n",
       "      <td>351.0</td>\n",
       "      <td>392.0</td>\n",
       "      <td>281.0</td>\n",
       "      <td>372.0</td>\n",
       "      <td>350.0</td>\n",
       "    </tr>\n",
       "    <tr>\n",
       "      <th>2982</th>\n",
       "      <td>388.0</td>\n",
       "      <td>426.0</td>\n",
       "      <td>398.0</td>\n",
       "      <td>416.0</td>\n",
       "      <td>413.0</td>\n",
       "      <td>367.0</td>\n",
       "      <td>403.0</td>\n",
       "      <td>398.0</td>\n",
       "      <td>467.0</td>\n",
       "      <td>442.0</td>\n",
       "      <td>...</td>\n",
       "      <td>353.000000</td>\n",
       "      <td>349.0</td>\n",
       "      <td>323.0</td>\n",
       "      <td>325.0</td>\n",
       "      <td>414.0</td>\n",
       "      <td>351.0</td>\n",
       "      <td>391.0</td>\n",
       "      <td>282.0</td>\n",
       "      <td>372.0</td>\n",
       "      <td>350.0</td>\n",
       "    </tr>\n",
       "    <tr>\n",
       "      <th>2983</th>\n",
       "      <td>387.0</td>\n",
       "      <td>425.0</td>\n",
       "      <td>398.0</td>\n",
       "      <td>416.0</td>\n",
       "      <td>413.0</td>\n",
       "      <td>367.0</td>\n",
       "      <td>404.0</td>\n",
       "      <td>398.0</td>\n",
       "      <td>467.0</td>\n",
       "      <td>442.0</td>\n",
       "      <td>...</td>\n",
       "      <td>353.000000</td>\n",
       "      <td>349.0</td>\n",
       "      <td>323.0</td>\n",
       "      <td>326.0</td>\n",
       "      <td>414.0</td>\n",
       "      <td>350.0</td>\n",
       "      <td>390.0</td>\n",
       "      <td>282.0</td>\n",
       "      <td>372.0</td>\n",
       "      <td>351.0</td>\n",
       "    </tr>\n",
       "    <tr>\n",
       "      <th>2984</th>\n",
       "      <td>386.0</td>\n",
       "      <td>425.0</td>\n",
       "      <td>398.0</td>\n",
       "      <td>416.0</td>\n",
       "      <td>414.0</td>\n",
       "      <td>367.0</td>\n",
       "      <td>404.0</td>\n",
       "      <td>398.0</td>\n",
       "      <td>467.0</td>\n",
       "      <td>441.0</td>\n",
       "      <td>...</td>\n",
       "      <td>353.000000</td>\n",
       "      <td>349.0</td>\n",
       "      <td>323.0</td>\n",
       "      <td>325.0</td>\n",
       "      <td>413.0</td>\n",
       "      <td>349.0</td>\n",
       "      <td>389.0</td>\n",
       "      <td>282.0</td>\n",
       "      <td>372.0</td>\n",
       "      <td>351.0</td>\n",
       "    </tr>\n",
       "    <tr>\n",
       "      <th>2985</th>\n",
       "      <td>385.0</td>\n",
       "      <td>425.0</td>\n",
       "      <td>398.0</td>\n",
       "      <td>417.0</td>\n",
       "      <td>414.0</td>\n",
       "      <td>367.0</td>\n",
       "      <td>404.0</td>\n",
       "      <td>398.0</td>\n",
       "      <td>467.0</td>\n",
       "      <td>440.0</td>\n",
       "      <td>...</td>\n",
       "      <td>353.000000</td>\n",
       "      <td>350.0</td>\n",
       "      <td>323.0</td>\n",
       "      <td>325.0</td>\n",
       "      <td>412.0</td>\n",
       "      <td>349.0</td>\n",
       "      <td>388.0</td>\n",
       "      <td>281.0</td>\n",
       "      <td>372.0</td>\n",
       "      <td>351.0</td>\n",
       "    </tr>\n",
       "    <tr>\n",
       "      <th>2986</th>\n",
       "      <td>386.0</td>\n",
       "      <td>426.0</td>\n",
       "      <td>398.0</td>\n",
       "      <td>417.0</td>\n",
       "      <td>414.0</td>\n",
       "      <td>366.0</td>\n",
       "      <td>404.0</td>\n",
       "      <td>399.0</td>\n",
       "      <td>467.0</td>\n",
       "      <td>440.0</td>\n",
       "      <td>...</td>\n",
       "      <td>353.000000</td>\n",
       "      <td>349.0</td>\n",
       "      <td>322.0</td>\n",
       "      <td>326.0</td>\n",
       "      <td>411.0</td>\n",
       "      <td>348.0</td>\n",
       "      <td>388.0</td>\n",
       "      <td>281.0</td>\n",
       "      <td>372.0</td>\n",
       "      <td>351.0</td>\n",
       "    </tr>\n",
       "    <tr>\n",
       "      <th>2987</th>\n",
       "      <td>386.0</td>\n",
       "      <td>425.0</td>\n",
       "      <td>398.0</td>\n",
       "      <td>417.0</td>\n",
       "      <td>414.0</td>\n",
       "      <td>366.0</td>\n",
       "      <td>404.0</td>\n",
       "      <td>399.0</td>\n",
       "      <td>467.0</td>\n",
       "      <td>441.0</td>\n",
       "      <td>...</td>\n",
       "      <td>354.000000</td>\n",
       "      <td>349.0</td>\n",
       "      <td>323.0</td>\n",
       "      <td>327.0</td>\n",
       "      <td>411.0</td>\n",
       "      <td>348.0</td>\n",
       "      <td>389.0</td>\n",
       "      <td>281.0</td>\n",
       "      <td>372.0</td>\n",
       "      <td>351.0</td>\n",
       "    </tr>\n",
       "    <tr>\n",
       "      <th>2988</th>\n",
       "      <td>386.0</td>\n",
       "      <td>425.0</td>\n",
       "      <td>398.0</td>\n",
       "      <td>417.0</td>\n",
       "      <td>414.0</td>\n",
       "      <td>366.0</td>\n",
       "      <td>404.0</td>\n",
       "      <td>399.0</td>\n",
       "      <td>467.0</td>\n",
       "      <td>440.0</td>\n",
       "      <td>...</td>\n",
       "      <td>355.000000</td>\n",
       "      <td>348.0</td>\n",
       "      <td>323.0</td>\n",
       "      <td>327.0</td>\n",
       "      <td>410.0</td>\n",
       "      <td>347.0</td>\n",
       "      <td>389.0</td>\n",
       "      <td>281.0</td>\n",
       "      <td>372.0</td>\n",
       "      <td>350.0</td>\n",
       "    </tr>\n",
       "    <tr>\n",
       "      <th>2989</th>\n",
       "      <td>386.0</td>\n",
       "      <td>426.0</td>\n",
       "      <td>398.0</td>\n",
       "      <td>417.0</td>\n",
       "      <td>413.0</td>\n",
       "      <td>366.0</td>\n",
       "      <td>404.0</td>\n",
       "      <td>398.0</td>\n",
       "      <td>467.0</td>\n",
       "      <td>439.0</td>\n",
       "      <td>...</td>\n",
       "      <td>355.000000</td>\n",
       "      <td>348.0</td>\n",
       "      <td>324.0</td>\n",
       "      <td>327.0</td>\n",
       "      <td>410.0</td>\n",
       "      <td>347.0</td>\n",
       "      <td>390.0</td>\n",
       "      <td>281.0</td>\n",
       "      <td>372.0</td>\n",
       "      <td>350.0</td>\n",
       "    </tr>\n",
       "    <tr>\n",
       "      <th>2990</th>\n",
       "      <td>386.0</td>\n",
       "      <td>426.0</td>\n",
       "      <td>398.0</td>\n",
       "      <td>417.0</td>\n",
       "      <td>413.0</td>\n",
       "      <td>366.0</td>\n",
       "      <td>405.0</td>\n",
       "      <td>398.0</td>\n",
       "      <td>466.0</td>\n",
       "      <td>438.0</td>\n",
       "      <td>...</td>\n",
       "      <td>354.000000</td>\n",
       "      <td>348.0</td>\n",
       "      <td>323.0</td>\n",
       "      <td>327.0</td>\n",
       "      <td>410.0</td>\n",
       "      <td>348.0</td>\n",
       "      <td>390.0</td>\n",
       "      <td>281.0</td>\n",
       "      <td>372.0</td>\n",
       "      <td>350.0</td>\n",
       "    </tr>\n",
       "    <tr>\n",
       "      <th>2991</th>\n",
       "      <td>386.0</td>\n",
       "      <td>427.0</td>\n",
       "      <td>398.0</td>\n",
       "      <td>416.0</td>\n",
       "      <td>412.0</td>\n",
       "      <td>366.0</td>\n",
       "      <td>406.0</td>\n",
       "      <td>398.0</td>\n",
       "      <td>466.0</td>\n",
       "      <td>438.0</td>\n",
       "      <td>...</td>\n",
       "      <td>354.000000</td>\n",
       "      <td>348.0</td>\n",
       "      <td>323.0</td>\n",
       "      <td>327.0</td>\n",
       "      <td>411.0</td>\n",
       "      <td>348.0</td>\n",
       "      <td>390.0</td>\n",
       "      <td>281.0</td>\n",
       "      <td>372.0</td>\n",
       "      <td>350.0</td>\n",
       "    </tr>\n",
       "    <tr>\n",
       "      <th>2992</th>\n",
       "      <td>386.0</td>\n",
       "      <td>427.0</td>\n",
       "      <td>398.0</td>\n",
       "      <td>416.0</td>\n",
       "      <td>412.0</td>\n",
       "      <td>366.0</td>\n",
       "      <td>406.0</td>\n",
       "      <td>397.0</td>\n",
       "      <td>467.0</td>\n",
       "      <td>437.0</td>\n",
       "      <td>...</td>\n",
       "      <td>354.000000</td>\n",
       "      <td>348.0</td>\n",
       "      <td>323.0</td>\n",
       "      <td>327.0</td>\n",
       "      <td>411.0</td>\n",
       "      <td>348.0</td>\n",
       "      <td>390.0</td>\n",
       "      <td>281.0</td>\n",
       "      <td>372.0</td>\n",
       "      <td>351.0</td>\n",
       "    </tr>\n",
       "    <tr>\n",
       "      <th>2993</th>\n",
       "      <td>387.0</td>\n",
       "      <td>427.0</td>\n",
       "      <td>398.0</td>\n",
       "      <td>416.0</td>\n",
       "      <td>413.0</td>\n",
       "      <td>366.0</td>\n",
       "      <td>406.0</td>\n",
       "      <td>397.0</td>\n",
       "      <td>468.0</td>\n",
       "      <td>437.0</td>\n",
       "      <td>...</td>\n",
       "      <td>354.000000</td>\n",
       "      <td>348.0</td>\n",
       "      <td>322.0</td>\n",
       "      <td>328.0</td>\n",
       "      <td>411.0</td>\n",
       "      <td>348.0</td>\n",
       "      <td>390.0</td>\n",
       "      <td>281.0</td>\n",
       "      <td>373.0</td>\n",
       "      <td>351.0</td>\n",
       "    </tr>\n",
       "    <tr>\n",
       "      <th>2994</th>\n",
       "      <td>386.0</td>\n",
       "      <td>427.0</td>\n",
       "      <td>399.0</td>\n",
       "      <td>416.0</td>\n",
       "      <td>412.0</td>\n",
       "      <td>365.0</td>\n",
       "      <td>406.0</td>\n",
       "      <td>396.0</td>\n",
       "      <td>468.0</td>\n",
       "      <td>436.0</td>\n",
       "      <td>...</td>\n",
       "      <td>352.000000</td>\n",
       "      <td>348.0</td>\n",
       "      <td>322.0</td>\n",
       "      <td>329.0</td>\n",
       "      <td>410.0</td>\n",
       "      <td>348.0</td>\n",
       "      <td>389.0</td>\n",
       "      <td>281.0</td>\n",
       "      <td>374.0</td>\n",
       "      <td>352.0</td>\n",
       "    </tr>\n",
       "    <tr>\n",
       "      <th>2995</th>\n",
       "      <td>386.0</td>\n",
       "      <td>427.0</td>\n",
       "      <td>399.0</td>\n",
       "      <td>416.0</td>\n",
       "      <td>411.0</td>\n",
       "      <td>365.0</td>\n",
       "      <td>406.0</td>\n",
       "      <td>396.0</td>\n",
       "      <td>467.0</td>\n",
       "      <td>435.0</td>\n",
       "      <td>...</td>\n",
       "      <td>351.000000</td>\n",
       "      <td>348.0</td>\n",
       "      <td>322.0</td>\n",
       "      <td>330.0</td>\n",
       "      <td>411.0</td>\n",
       "      <td>348.0</td>\n",
       "      <td>389.0</td>\n",
       "      <td>281.0</td>\n",
       "      <td>375.0</td>\n",
       "      <td>352.0</td>\n",
       "    </tr>\n",
       "    <tr>\n",
       "      <th>2996</th>\n",
       "      <td>385.0</td>\n",
       "      <td>427.0</td>\n",
       "      <td>400.0</td>\n",
       "      <td>417.0</td>\n",
       "      <td>410.0</td>\n",
       "      <td>366.0</td>\n",
       "      <td>407.0</td>\n",
       "      <td>395.0</td>\n",
       "      <td>467.0</td>\n",
       "      <td>433.0</td>\n",
       "      <td>...</td>\n",
       "      <td>350.000000</td>\n",
       "      <td>348.0</td>\n",
       "      <td>323.0</td>\n",
       "      <td>330.0</td>\n",
       "      <td>411.0</td>\n",
       "      <td>348.0</td>\n",
       "      <td>388.0</td>\n",
       "      <td>282.0</td>\n",
       "      <td>374.0</td>\n",
       "      <td>353.0</td>\n",
       "    </tr>\n",
       "    <tr>\n",
       "      <th>2997</th>\n",
       "      <td>384.0</td>\n",
       "      <td>427.0</td>\n",
       "      <td>400.0</td>\n",
       "      <td>417.0</td>\n",
       "      <td>411.0</td>\n",
       "      <td>366.0</td>\n",
       "      <td>407.0</td>\n",
       "      <td>395.0</td>\n",
       "      <td>468.0</td>\n",
       "      <td>432.0</td>\n",
       "      <td>...</td>\n",
       "      <td>350.000000</td>\n",
       "      <td>348.0</td>\n",
       "      <td>323.0</td>\n",
       "      <td>330.0</td>\n",
       "      <td>412.0</td>\n",
       "      <td>347.0</td>\n",
       "      <td>388.0</td>\n",
       "      <td>282.0</td>\n",
       "      <td>374.0</td>\n",
       "      <td>353.0</td>\n",
       "    </tr>\n",
       "    <tr>\n",
       "      <th>2998</th>\n",
       "      <td>384.0</td>\n",
       "      <td>427.0</td>\n",
       "      <td>400.0</td>\n",
       "      <td>417.0</td>\n",
       "      <td>411.0</td>\n",
       "      <td>366.0</td>\n",
       "      <td>408.0</td>\n",
       "      <td>395.0</td>\n",
       "      <td>469.0</td>\n",
       "      <td>433.0</td>\n",
       "      <td>...</td>\n",
       "      <td>351.000000</td>\n",
       "      <td>348.0</td>\n",
       "      <td>323.0</td>\n",
       "      <td>330.0</td>\n",
       "      <td>412.0</td>\n",
       "      <td>346.0</td>\n",
       "      <td>389.0</td>\n",
       "      <td>282.0</td>\n",
       "      <td>373.0</td>\n",
       "      <td>353.0</td>\n",
       "    </tr>\n",
       "    <tr>\n",
       "      <th>2999</th>\n",
       "      <td>384.0</td>\n",
       "      <td>427.0</td>\n",
       "      <td>400.0</td>\n",
       "      <td>417.0</td>\n",
       "      <td>411.0</td>\n",
       "      <td>365.0</td>\n",
       "      <td>408.0</td>\n",
       "      <td>394.0</td>\n",
       "      <td>470.0</td>\n",
       "      <td>434.0</td>\n",
       "      <td>...</td>\n",
       "      <td>352.000000</td>\n",
       "      <td>349.0</td>\n",
       "      <td>323.0</td>\n",
       "      <td>330.0</td>\n",
       "      <td>412.0</td>\n",
       "      <td>346.0</td>\n",
       "      <td>389.0</td>\n",
       "      <td>282.0</td>\n",
       "      <td>374.0</td>\n",
       "      <td>353.0</td>\n",
       "    </tr>\n",
       "  </tbody>\n",
       "</table>\n",
       "<p>3000 rows × 30 columns</p>\n",
       "</div>"
      ],
      "text/plain": [
       "         0      1      2      3      4      5      6      7      8      9   \\\n",
       "0     442.0  398.0  385.0  395.0  391.0  380.0  408.0  359.0  392.0  408.0   \n",
       "1     442.0  398.0  385.0  395.0  391.0  381.0  408.0  359.0  392.0  408.0   \n",
       "2     442.0  399.0  386.0  394.0  392.0  381.0  408.0  359.0  391.0  408.0   \n",
       "3     443.0  399.0  385.0  395.0  393.0  381.0  408.0  358.0  392.0  408.0   \n",
       "4     443.0  398.0  385.0  395.0  394.0  380.0  407.0  358.0  392.0  408.0   \n",
       "5     443.0  398.0  384.0  395.0  394.0  380.0  406.0  359.0  392.0  408.0   \n",
       "6     443.0  398.0  384.0  394.0  394.0  379.0  406.0  359.0  392.0  407.0   \n",
       "7     442.0  398.0  385.0  394.0  394.0  379.0  406.0  358.0  392.0  407.0   \n",
       "8     442.0  399.0  385.0  395.0  394.0  379.0  406.0  358.0  392.0  407.0   \n",
       "9     443.0  400.0  386.0  396.0  394.0  379.0  406.0  358.0  393.0  407.0   \n",
       "10    443.0  400.0  386.0  397.0  394.0  379.0  406.0  357.0  395.0  408.0   \n",
       "11    443.0  400.0  386.0  397.0  394.0  380.0  405.0  357.0  397.0  408.0   \n",
       "12    443.0  401.0  385.0  397.0  394.0  381.0  405.0  357.0  399.0  407.0   \n",
       "13    443.0  402.0  385.0  396.0  394.0  381.0  405.0  356.0  399.0  407.0   \n",
       "14    442.0  402.0  386.0  396.0  394.0  381.0  405.0  356.0  399.0  407.0   \n",
       "15    443.0  402.0  386.0  396.0  393.0  381.0  406.0  356.0  399.0  407.0   \n",
       "16    444.0  403.0  386.0  397.0  393.0  381.0  406.0  356.0  398.0  407.0   \n",
       "17    444.0  403.0  386.0  397.0  392.0  382.0  406.0  356.0  397.0  408.0   \n",
       "18    444.0  402.0  386.0  398.0  393.0  382.0  406.0  356.0  396.0  408.0   \n",
       "19    444.0  402.0  386.0  398.0  393.0  382.0  405.0  356.0  396.0  408.0   \n",
       "20    444.0  402.0  385.0  399.0  393.0  382.0  406.0  355.0  395.0  409.0   \n",
       "21    444.0  402.0  384.0  399.0  393.0  382.0  406.0  355.0  395.0  408.0   \n",
       "22    444.0  402.0  384.0  399.0  393.0  382.0  407.0  355.0  395.0  408.0   \n",
       "23    443.0  402.0  384.0  399.0  392.0  382.0  407.0  354.0  395.0  407.0   \n",
       "24    443.0  402.0  385.0  399.0  393.0  382.0  406.0  354.0  394.0  407.0   \n",
       "25    443.0  402.0  384.0  400.0  394.0  383.0  406.0  354.0  393.0  406.0   \n",
       "26    443.0  402.0  384.0  400.0  395.0  383.0  405.0  354.0  392.0  406.0   \n",
       "27    443.0  402.0  384.0  400.0  395.0  384.0  404.0  354.0  392.0  407.0   \n",
       "28    444.0  403.0  384.0  400.0  395.0  384.0  404.0  355.0  391.0  407.0   \n",
       "29    444.0  402.0  385.0  400.0  395.0  384.0  404.0  355.0  392.0  408.0   \n",
       "...     ...    ...    ...    ...    ...    ...    ...    ...    ...    ...   \n",
       "2970  388.0  422.0  397.0  416.0  419.0  369.0  401.0  400.0  465.0  442.0   \n",
       "2971  388.0  422.0  397.0  416.0  419.0  369.0  401.0  400.0  465.0  442.0   \n",
       "2972  387.0  423.0  397.0  417.0  418.0  369.0  401.0  400.0  465.0  442.0   \n",
       "2973  386.0  424.0  397.0  417.0  418.0  369.0  401.0  400.0  465.0  441.0   \n",
       "2974  386.0  424.0  397.0  417.0  418.0  368.0  401.0  400.0  465.0  441.0   \n",
       "2975  386.0  424.0  397.0  417.0  418.0  368.0  401.0  399.0  466.0  442.0   \n",
       "2976  386.0  424.0  398.0  417.0  417.0  368.0  401.0  399.0  466.0  442.0   \n",
       "2977  386.0  424.0  398.0  417.0  417.0  368.0  401.0  399.0  467.0  442.0   \n",
       "2978  386.0  424.0  398.0  417.0  417.0  368.0  401.0  399.0  467.0  442.0   \n",
       "2979  387.0  424.0  397.0  417.0  416.0  368.0  401.0  400.0  467.0  442.0   \n",
       "2980  387.0  425.0  397.0  417.0  415.0  367.0  401.0  399.0  467.0  442.0   \n",
       "2981  388.0  426.0  398.0  416.0  414.0  367.0  402.0  398.0  467.0  442.0   \n",
       "2982  388.0  426.0  398.0  416.0  413.0  367.0  403.0  398.0  467.0  442.0   \n",
       "2983  387.0  425.0  398.0  416.0  413.0  367.0  404.0  398.0  467.0  442.0   \n",
       "2984  386.0  425.0  398.0  416.0  414.0  367.0  404.0  398.0  467.0  441.0   \n",
       "2985  385.0  425.0  398.0  417.0  414.0  367.0  404.0  398.0  467.0  440.0   \n",
       "2986  386.0  426.0  398.0  417.0  414.0  366.0  404.0  399.0  467.0  440.0   \n",
       "2987  386.0  425.0  398.0  417.0  414.0  366.0  404.0  399.0  467.0  441.0   \n",
       "2988  386.0  425.0  398.0  417.0  414.0  366.0  404.0  399.0  467.0  440.0   \n",
       "2989  386.0  426.0  398.0  417.0  413.0  366.0  404.0  398.0  467.0  439.0   \n",
       "2990  386.0  426.0  398.0  417.0  413.0  366.0  405.0  398.0  466.0  438.0   \n",
       "2991  386.0  427.0  398.0  416.0  412.0  366.0  406.0  398.0  466.0  438.0   \n",
       "2992  386.0  427.0  398.0  416.0  412.0  366.0  406.0  397.0  467.0  437.0   \n",
       "2993  387.0  427.0  398.0  416.0  413.0  366.0  406.0  397.0  468.0  437.0   \n",
       "2994  386.0  427.0  399.0  416.0  412.0  365.0  406.0  396.0  468.0  436.0   \n",
       "2995  386.0  427.0  399.0  416.0  411.0  365.0  406.0  396.0  467.0  435.0   \n",
       "2996  385.0  427.0  400.0  417.0  410.0  366.0  407.0  395.0  467.0  433.0   \n",
       "2997  384.0  427.0  400.0  417.0  411.0  366.0  407.0  395.0  468.0  432.0   \n",
       "2998  384.0  427.0  400.0  417.0  411.0  366.0  408.0  395.0  469.0  433.0   \n",
       "2999  384.0  427.0  400.0  417.0  411.0  365.0  408.0  394.0  470.0  434.0   \n",
       "\n",
       "      ...          20     21     22     23     24     25     26     27     28  \\\n",
       "0     ...  353.000000  386.0  427.0  313.0  446.0  388.0  329.0  373.0  287.0   \n",
       "1     ...  354.000000  385.0  428.0  312.0  446.0  388.0  329.0  374.0  293.0   \n",
       "2     ...  354.000000  384.0  428.0  312.0  446.0  388.0  329.0  374.0  296.0   \n",
       "3     ...  354.000000  384.0  428.0  311.0  447.0  387.0  329.0  374.0  298.0   \n",
       "4     ...  354.000000  385.0  427.0  312.0  447.0  387.0  329.0  374.0  297.0   \n",
       "5     ...  354.000000  385.0  426.0  313.0  447.0  387.0  329.0  374.0  298.0   \n",
       "6     ...  353.000000  385.0  425.0  314.0  446.0  387.0  329.0  373.0  298.0   \n",
       "7     ...  354.000000  386.0  425.0  314.0  445.0  388.0  329.0  373.0  299.0   \n",
       "8     ...  352.000000  386.0  425.0  314.0  445.0  388.0  329.0  373.0  299.0   \n",
       "9     ...  351.000000  387.0  425.0  313.0  445.0  389.0  329.0  373.0  297.0   \n",
       "10    ...  351.000000  386.0  426.0  313.0  445.0  390.0  329.0  373.0  294.0   \n",
       "11    ...  351.000000  386.0  426.0  313.0  445.0  390.0  329.0  373.0  292.0   \n",
       "12    ...  352.000000  384.0  426.0  313.0  446.0  389.0  330.0  373.0  292.0   \n",
       "13    ...  352.000000  383.0  426.0  312.0  446.0  389.0  331.0  374.0  291.0   \n",
       "14    ...  352.000000  382.0  426.0  312.0  446.0  388.0  332.0  375.0  291.0   \n",
       "15    ...  352.000000  382.0  426.0  312.0  446.0  388.0  332.0  375.0  290.0   \n",
       "16    ...  352.000000  383.0  426.0  312.0  446.0  389.0  332.0  375.0  290.0   \n",
       "17    ...  351.000000  384.0  426.0  312.0  447.0  389.0  332.0  375.0  291.0   \n",
       "18    ...  351.000000  385.0  427.0  312.0  447.0  389.0  331.0  375.0  292.0   \n",
       "19    ...  350.000000  384.0  428.0  312.0  446.0  389.0  331.0  376.0  292.0   \n",
       "20    ...  350.000000  383.0  429.0  312.0  446.0  390.0  331.0  376.0  291.0   \n",
       "21    ...  349.000000  382.0  429.0  313.0  445.0  390.0  331.0  377.0  291.0   \n",
       "22    ...  349.000000  381.0  429.0  313.0  446.0  391.0  331.0  377.0  291.0   \n",
       "23    ...  349.000000  380.0  429.0  312.0  447.0  391.0  332.0  378.0  291.0   \n",
       "24    ...  350.000000  379.0  429.0  314.0  448.0  391.0  332.0  380.0  291.0   \n",
       "25    ...  351.000000  379.0  429.0  316.0  448.0  391.0  332.0  379.0  292.0   \n",
       "26    ...  351.000000  379.0  429.0  317.0  448.0  390.0  331.0  377.0  293.0   \n",
       "27    ...  351.000000  379.0  429.0  316.0  448.0  390.0  330.0  376.0  294.0   \n",
       "28    ...  351.000000  379.0  429.0  316.0  448.0  390.0  330.0  377.0  294.0   \n",
       "29    ...  350.000000  378.0  429.0  315.0  448.0  390.0  330.0  377.0  294.0   \n",
       "...   ...         ...    ...    ...    ...    ...    ...    ...    ...    ...   \n",
       "2970  ...  354.264934  350.0  322.0  320.0  414.0  350.0  390.0  280.0  369.0   \n",
       "2971  ...  354.195294  349.0  322.0  320.0  415.0  350.0  391.0  280.0  369.0   \n",
       "2972  ...  354.126002  348.0  322.0  321.0  415.0  350.0  392.0  280.0  370.0   \n",
       "2973  ...  356.000000  348.0  322.0  321.0  415.0  350.0  392.0  280.0  371.0   \n",
       "2974  ...  355.000000  349.0  322.0  322.0  415.0  350.0  391.0  280.0  371.0   \n",
       "2975  ...  355.000000  350.0  322.0  322.0  415.0  349.0  390.0  281.0  372.0   \n",
       "2976  ...  354.000000  349.0  322.0  323.0  414.0  349.0  390.0  281.0  372.0   \n",
       "2977  ...  353.000000  349.0  322.0  323.0  414.0  349.0  391.0  281.0  372.0   \n",
       "2978  ...  352.000000  349.0  322.0  323.0  414.0  349.0  391.0  281.0  373.0   \n",
       "2979  ...  352.000000  349.0  322.0  323.0  414.0  349.0  392.0  281.0  373.0   \n",
       "2980  ...  352.000000  349.0  322.0  323.0  414.0  350.0  392.0  281.0  373.0   \n",
       "2981  ...  353.000000  349.0  322.0  325.0  414.0  351.0  392.0  281.0  372.0   \n",
       "2982  ...  353.000000  349.0  323.0  325.0  414.0  351.0  391.0  282.0  372.0   \n",
       "2983  ...  353.000000  349.0  323.0  326.0  414.0  350.0  390.0  282.0  372.0   \n",
       "2984  ...  353.000000  349.0  323.0  325.0  413.0  349.0  389.0  282.0  372.0   \n",
       "2985  ...  353.000000  350.0  323.0  325.0  412.0  349.0  388.0  281.0  372.0   \n",
       "2986  ...  353.000000  349.0  322.0  326.0  411.0  348.0  388.0  281.0  372.0   \n",
       "2987  ...  354.000000  349.0  323.0  327.0  411.0  348.0  389.0  281.0  372.0   \n",
       "2988  ...  355.000000  348.0  323.0  327.0  410.0  347.0  389.0  281.0  372.0   \n",
       "2989  ...  355.000000  348.0  324.0  327.0  410.0  347.0  390.0  281.0  372.0   \n",
       "2990  ...  354.000000  348.0  323.0  327.0  410.0  348.0  390.0  281.0  372.0   \n",
       "2991  ...  354.000000  348.0  323.0  327.0  411.0  348.0  390.0  281.0  372.0   \n",
       "2992  ...  354.000000  348.0  323.0  327.0  411.0  348.0  390.0  281.0  372.0   \n",
       "2993  ...  354.000000  348.0  322.0  328.0  411.0  348.0  390.0  281.0  373.0   \n",
       "2994  ...  352.000000  348.0  322.0  329.0  410.0  348.0  389.0  281.0  374.0   \n",
       "2995  ...  351.000000  348.0  322.0  330.0  411.0  348.0  389.0  281.0  375.0   \n",
       "2996  ...  350.000000  348.0  323.0  330.0  411.0  348.0  388.0  282.0  374.0   \n",
       "2997  ...  350.000000  348.0  323.0  330.0  412.0  347.0  388.0  282.0  374.0   \n",
       "2998  ...  351.000000  348.0  323.0  330.0  412.0  346.0  389.0  282.0  373.0   \n",
       "2999  ...  352.000000  349.0  323.0  330.0  412.0  346.0  389.0  282.0  374.0   \n",
       "\n",
       "         29  \n",
       "0     372.0  \n",
       "1     372.0  \n",
       "2     372.0  \n",
       "3     373.0  \n",
       "4     373.0  \n",
       "5     374.0  \n",
       "6     374.0  \n",
       "7     374.0  \n",
       "8     374.0  \n",
       "9     374.0  \n",
       "10    375.0  \n",
       "11    375.0  \n",
       "12    375.0  \n",
       "13    375.0  \n",
       "14    375.0  \n",
       "15    375.0  \n",
       "16    375.0  \n",
       "17    375.0  \n",
       "18    374.0  \n",
       "19    374.0  \n",
       "20    374.0  \n",
       "21    374.0  \n",
       "22    374.0  \n",
       "23    374.0  \n",
       "24    374.0  \n",
       "25    374.0  \n",
       "26    374.0  \n",
       "27    375.0  \n",
       "28    375.0  \n",
       "29    375.0  \n",
       "...     ...  \n",
       "2970  348.0  \n",
       "2971  348.0  \n",
       "2972  348.0  \n",
       "2973  349.0  \n",
       "2974  350.0  \n",
       "2975  350.0  \n",
       "2976  351.0  \n",
       "2977  350.0  \n",
       "2978  350.0  \n",
       "2979  349.0  \n",
       "2980  349.0  \n",
       "2981  350.0  \n",
       "2982  350.0  \n",
       "2983  351.0  \n",
       "2984  351.0  \n",
       "2985  351.0  \n",
       "2986  351.0  \n",
       "2987  351.0  \n",
       "2988  350.0  \n",
       "2989  350.0  \n",
       "2990  350.0  \n",
       "2991  350.0  \n",
       "2992  351.0  \n",
       "2993  351.0  \n",
       "2994  352.0  \n",
       "2995  352.0  \n",
       "2996  353.0  \n",
       "2997  353.0  \n",
       "2998  353.0  \n",
       "2999  353.0  \n",
       "\n",
       "[3000 rows x 30 columns]"
      ]
     },
     "execution_count": 301,
     "metadata": {},
     "output_type": "execute_result"
    }
   ],
   "source": [
    "pd.DataFrame(nr_trials_interp.values.T)"
   ]
  },
  {
   "cell_type": "code",
   "execution_count": 124,
   "metadata": {},
   "outputs": [],
   "source": []
  },
  {
   "cell_type": "code",
   "execution_count": null,
   "metadata": {},
   "outputs": [],
   "source": []
  },
  {
   "cell_type": "markdown",
   "metadata": {},
   "source": [
    "## Plotting comparison"
   ]
  },
  {
   "cell_type": "markdown",
   "metadata": {},
   "source": [
    "### Pre-buffer"
   ]
  },
  {
   "cell_type": "code",
   "execution_count": 73,
   "metadata": {},
   "outputs": [
    {
     "data": {
      "text/plain": [
       "(300, 500)"
      ]
     },
     "execution_count": 73,
     "metadata": {},
     "output_type": "execute_result"
    },
    {
     "data": {
      "image/png": "[encoded data removed]",
      "text/plain": [
       "<Figure size 432x288 with 1 Axes>"
      ]
     },
     "metadata": {
      "needs_background": "light"
     },
     "output_type": "display_data"
    }
   ],
   "source": [
    "plt.plot(nr_trials[1,1600:1900])\n",
    "plt.ylim(300,500)"
   ]
  },
  {
   "cell_type": "markdown",
   "metadata": {},
   "source": [
    "### 10 ms buffer\n",
    "Seems like it doesn't remove artifact fully"
   ]
  },
  {
   "cell_type": "code",
   "execution_count": 74,
   "metadata": {},
   "outputs": [
    {
     "data": {
      "text/plain": [
       "(300, 500)"
      ]
     },
     "execution_count": 74,
     "metadata": {},
     "output_type": "execute_result"
    },
    {
     "data": {
      "image/png": "[encoded data removed]",
      "text/plain": [
       "<Figure size 432x288 with 1 Axes>"
      ]
     },
     "metadata": {
      "needs_background": "light"
     },
     "output_type": "display_data"
    }
   ],
   "source": [
    "plt.plot(blink_buffer_loop(nr_trials,buffer=5)[1][1600:1900])\n",
    "plt.ylim(300,500)"
   ]
  },
  {
   "cell_type": "markdown",
   "metadata": {},
   "source": [
    "### 20 ms buffer\n",
    "Artifact remains"
   ]
  },
  {
   "cell_type": "code",
   "execution_count": 75,
   "metadata": {},
   "outputs": [
    {
     "data": {
      "text/plain": [
       "(300, 500)"
      ]
     },
     "execution_count": 75,
     "metadata": {},
     "output_type": "execute_result"
    },
    {
     "data": {
      "image/png": "[encoded data removed]",
      "text/plain": [
       "<Figure size 432x288 with 1 Axes>"
      ]
     },
     "metadata": {
      "needs_background": "light"
     },
     "output_type": "display_data"
    }
   ],
   "source": [
    "plt.plot(blink_buffer_loop(nr_trials,buffer=10)[1][1600:1900])\n",
    "plt.ylim(300,500)"
   ]
  },
  {
   "cell_type": "markdown",
   "metadata": {},
   "source": [
    "### 30 ms buffer\n",
    "Artifact seems to be disappearing but is still there."
   ]
  },
  {
   "cell_type": "code",
   "execution_count": 76,
   "metadata": {},
   "outputs": [
    {
     "data": {
      "text/plain": [
       "(300, 500)"
      ]
     },
     "execution_count": 76,
     "metadata": {},
     "output_type": "execute_result"
    },
    {
     "data": {
      "image/png": "[encoded data removed]",
      "text/plain": [
       "<Figure size 432x288 with 1 Axes>"
      ]
     },
     "metadata": {
      "needs_background": "light"
     },
     "output_type": "display_data"
    }
   ],
   "source": [
    "plt.plot(blink_buffer_loop(nr_trials,buffer=15)[1][1600:1900])\n",
    "plt.ylim(300,500)"
   ]
  },
  {
   "cell_type": "markdown",
   "metadata": {},
   "source": [
    "### 40 ms buffer\n",
    "Artifact is mostly gone."
   ]
  },
  {
   "cell_type": "code",
   "execution_count": 77,
   "metadata": {},
   "outputs": [
    {
     "data": {
      "text/plain": [
       "(300, 500)"
      ]
     },
     "execution_count": 77,
     "metadata": {},
     "output_type": "execute_result"
    },
    {
     "data": {
      "image/png": "[encoded data removed]",
      "text/plain": [
       "<Figure size 432x288 with 1 Axes>"
      ]
     },
     "metadata": {
      "needs_background": "light"
     },
     "output_type": "display_data"
    }
   ],
   "source": [
    "plt.plot(blink_buffer_loop(nr_trials,buffer=20)[1][1600:1900])\n",
    "plt.ylim(300,500)"
   ]
  },
  {
   "cell_type": "markdown",
   "metadata": {},
   "source": [
    "### Linear interpolation + 20 ms buffer"
   ]
  },
  {
   "cell_type": "code",
   "execution_count": 102,
   "metadata": {},
   "outputs": [
    {
     "data": {
      "text/plain": [
       "(300, 500)"
      ]
     },
     "execution_count": 102,
     "metadata": {},
     "output_type": "execute_result"
    },
    {
     "data": {
      "image/png": "[encoded data removed]",
      "text/plain": [
       "<Figure size 432x288 with 1 Axes>"
      ]
     },
     "metadata": {
      "needs_background": "light"
     },
     "output_type": "display_data"
    }
   ],
   "source": [
    "plt.plot(pd.DataFrame(nr_trials_buff).interpolate(method='linear',axis=1,limit_direction='forward').iloc[1,1600:1900])\n",
    "plt.ylim(300,500)"
   ]
  },
  {
   "cell_type": "markdown",
   "metadata": {},
   "source": [
    "### Linear interpolation + 40 ms buffer"
   ]
  },
  {
   "cell_type": "code",
   "execution_count": 83,
   "metadata": {},
   "outputs": [
    {
     "data": {
      "text/plain": [
       "(300, 500)"
      ]
     },
     "execution_count": 83,
     "metadata": {},
     "output_type": "execute_result"
    },
    {
     "data": {
      "image/png": "[encoded data removed]",
      "text/plain": [
       "<Figure size 432x288 with 1 Axes>"
      ]
     },
     "metadata": {
      "needs_background": "light"
     },
     "output_type": "display_data"
    }
   ],
   "source": [
    "plt.plot(pd.DataFrame(nr_trials_buff).interpolate(method='linear',axis=1,limit_direction='forward').iloc[1,1600:1900])\n",
    "plt.ylim(300,500)"
   ]
  },
  {
   "cell_type": "markdown",
   "metadata": {},
   "source": [
    "### Cubic interpolation + 40 ms buffer"
   ]
  },
  {
   "cell_type": "code",
   "execution_count": 84,
   "metadata": {},
   "outputs": [
    {
     "data": {
      "text/plain": [
       "(300, 500)"
      ]
     },
     "execution_count": 84,
     "metadata": {},
     "output_type": "execute_result"
    },
    {
     "data": {
      "image/png": "[encoded data removed]",
      "text/plain": [
       "<Figure size 432x288 with 1 Axes>"
      ]
     },
     "metadata": {
      "needs_background": "light"
     },
     "output_type": "display_data"
    }
   ],
   "source": [
    "plt.plot(pd.DataFrame(nr_trials_buff).interpolate(method='cubic',axis=1,limit_direction='forward').iloc[1,1600:1900])\n",
    "plt.ylim(300,500)"
   ]
  },
  {
   "cell_type": "markdown",
   "metadata": {},
   "source": [
    "### Cubic spline interpolation + 40 ms buffer"
   ]
  },
  {
   "cell_type": "code",
   "execution_count": 85,
   "metadata": {},
   "outputs": [
    {
     "data": {
      "text/plain": [
       "(300, 500)"
      ]
     },
     "execution_count": 85,
     "metadata": {},
     "output_type": "execute_result"
    },
    {
     "data": {
      "image/png": "[encoded data removed]",
      "text/plain": [
       "<Figure size 432x288 with 1 Axes>"
      ]
     },
     "metadata": {
      "needs_background": "light"
     },
     "output_type": "display_data"
    }
   ],
   "source": [
    "plt.plot(pd.DataFrame(nr_trials_buff).interpolate(method='spline',order=3,axis=1,limit_direction='forward').iloc[1,1600:1900])\n",
    "plt.ylim(300,500)"
   ]
  },
  {
   "cell_type": "markdown",
   "metadata": {},
   "source": [
    "### Cubic spline interpolation + 20 ms buffer"
   ]
  },
  {
   "cell_type": "code",
   "execution_count": 87,
   "metadata": {},
   "outputs": [
    {
     "data": {
      "text/plain": [
       "(300, 500)"
      ]
     },
     "execution_count": 87,
     "metadata": {},
     "output_type": "execute_result"
    },
    {
     "data": {
      "image/png": "[encoded data removed]",
      "text/plain": [
       "<Figure size 432x288 with 1 Axes>"
      ]
     },
     "metadata": {
      "needs_background": "light"
     },
     "output_type": "display_data"
    }
   ],
   "source": [
    "plt.plot(pd.DataFrame(nr_trials_buff).interpolate(method='spline',order=3,axis=1,limit_direction='forward').iloc[1,1600:1900])\n",
    "plt.ylim(300,500)"
   ]
  },
  {
   "cell_type": "code",
   "execution_count": 104,
   "metadata": {},
   "outputs": [
    {
     "data": {
      "text/plain": [
       "(300, 500)"
      ]
     },
     "execution_count": 104,
     "metadata": {},
     "output_type": "execute_result"
    },
    {
     "data": {
      "image/png": "[encoded data removed]",
      "text/plain": [
       "<Figure size 432x288 with 1 Axes>"
      ]
     },
     "metadata": {
      "needs_background": "light"
     },
     "output_type": "display_data"
    }
   ],
   "source": [
    "plt.plot(pd.DataFrame(nr_trials_buff).interpolate(method='spline',order=3,axis=1,limit_direction='forward').iloc[1,1600:1900])\n",
    "plt.ylim(300,500)"
   ]
  },
  {
   "cell_type": "code",
   "execution_count": 259,
   "metadata": {},
   "outputs": [
    {
     "data": {
      "text/plain": [
       "array([ 51, 130], dtype=int64)"
      ]
     },
     "execution_count": 259,
     "metadata": {},
     "output_type": "execute_result"
    }
   ],
   "source": [
    "# The below function is hard to unpack.\n",
    "# Innermost we find what indices in some row of nr_trials are equal to zero (i.e. blink) with np.where\n",
    "# We then use np.diff to take a difference, and then use np.where to check if there are any values not equal to one.\n",
    "# If it returns any then that means there is more than one blink.\n",
    "# np.diff having values at index 51, 130 means that our np.where returned indices which differed by more than one at \n",
    "# indices 51 and 52 as well as 130 and 131.\n",
    "# That means index 51 in np.where(nr_trials...) corresponds to the end of a blink and 52 corresponds to the beginning.\n",
    "# So nr_trials[np.where...[51]] should be zeroed out, as should nr_trials[np.where]\n",
    "\n",
    "# So what we want to do is find all indices in np.diff(...) which don't equal zero.\n",
    "# Then for each index we want to find the corresponding index of np.where(nr_trials) and zero out nr_trials around THAT index.\n",
    "# And also around that index + 1.\n",
    "\n",
    "# This returns the indices of np.diff which are not equal to one.\n",
    "# I.E. if this returns the index 4, that means the np.where returned\n",
    "# two values at its own index four and five which differ by more than 1.\n",
    "# This corresponds to \n",
    "np.where(np.diff(np.where(nr_trials[16]==0)[0])!=1)[0]"
   ]
  },
  {
   "cell_type": "code",
   "execution_count": 263,
   "metadata": {},
   "outputs": [
    {
     "data": {
      "text/plain": [
       "array([ 51, 130], dtype=int64)"
      ]
     },
     "execution_count": 263,
     "metadata": {},
     "output_type": "execute_result"
    }
   ],
   "source": [
    "np.where(np.diff(np.where(nr_trials[16]==0)[0])!=1)[0]"
   ]
  },
  {
   "cell_type": "code",
   "execution_count": 256,
   "metadata": {},
   "outputs": [],
   "source": [
    "for i in np.where(np.diff(np.where(nr_trials[16]==0)[0])!=1)[0]:\n",
    "    print(np.where(nr_trials[16]==0)[0][i])"
   ]
  },
  {
   "cell_type": "code",
   "execution_count": 320,
   "metadata": {},
   "outputs": [
    {
     "data": {
      "text/plain": [
       "(array([1186, 1187, 1188, 1189, 1190, 1191, 1192, 1193, 1194, 1195, 1196,\n",
       "        1197, 1198, 1199, 1200, 1201, 1202, 1203, 1204, 1205, 1206, 1207,\n",
       "        1208, 1209, 1210, 1211, 1212, 1213, 1214, 1215, 1216, 1217, 1218,\n",
       "        1219, 1220, 1221, 1222, 1223, 1224, 1225, 1226, 1227, 1228, 1229,\n",
       "        1230, 1231, 1232, 1233, 1234, 1235, 1236, 1237, 1238, 1239, 1240,\n",
       "        1241, 1242, 1243, 1244, 1245, 1246, 1247, 1248, 1249, 1250, 1251,\n",
       "        1252, 1253, 1254, 1255, 1256, 1257, 1258], dtype=int64),)"
      ]
     },
     "execution_count": 320,
     "metadata": {},
     "output_type": "execute_result"
    }
   ],
   "source": [
    "np.where(nr_trials[1]==0)"
   ]
  },
  {
   "cell_type": "code",
   "execution_count": 309,
   "metadata": {},
   "outputs": [],
   "source": [
    "def blink_buffer(array,buffer_=15):\n",
    "    arr_ = np.copy(array)\n",
    "    for i in range(arr_.shape[0]):\n",
    "        # Need a way to distinguish between trials which have only one blink and those which have multiple.\n",
    "        # In either case we can easily grab and zero out the beginning of the first blink and the end of the last.\n",
    "\n",
    "        # Grab beginning and end of single blink, then get indices length of buffer up and down from center\n",
    "        blink_times_ = np.where(arr_[i]==0)[0]\n",
    "\n",
    "        center1_ = blink_times_[0]\n",
    "        center2_ = blink_times_[-1]\n",
    "\n",
    "        arr_[i,center1_-buffer_:center1_+buffer_+1]=0\n",
    "        arr_[i,center2_-buffer_:center2_+buffer_+1]=0\n",
    "\n",
    "        # The below condition will be satisfied when not all the indices returned by np.where are one.\n",
    "        # This is implemented by using np.diff to get the differences between consecutive values in blink_times_, then subtracting one.\n",
    "        # If all the values in blink_times_ are consecutive (one blink in the trial) then this makes all of the inside zero i.e. false.\n",
    "        # If at least one jump in blink_times_ is not consecutive (i.e. 2+ blinks in trial) then one value will be nonzero i.e. true.\n",
    "        if (np.diff(blink_times_)-1).any():\n",
    "\n",
    "            # Find indices where np.diff doesn't return a one. Then the returned index and the returned index+1 will correspond to\n",
    "            # beginnings or ends of blinks.\n",
    "            non_consec_ = np.where(np.diff(blink_times_)[0]!=1)[0]\n",
    "            for blink_idx_ in non_consec_:\n",
    "                center1_ = blink_times_[blink_idx]\n",
    "                center2_ = blink_times_[blink_idx+1]\n",
    "\n",
    "                arr_[i,center1_-buffer_:center1_+buffer_+1]=0\n",
    "                arr_[i,center2_-buffer_:center2_+buffer_+1]=0\n",
    "\n",
    "    return arr_\n"
   ]
  },
  {
   "cell_type": "code",
   "execution_count": 22,
   "metadata": {},
   "outputs": [],
   "source": []
  },
  {
   "cell_type": "code",
   "execution_count": 271,
   "metadata": {},
   "outputs": [
    {
     "name": "stdout",
     "output_type": "stream",
     "text": [
      "1\n"
     ]
    }
   ],
   "source": [
    "if (np.diff(np.where(nr_trials[16]==0)[0])-1).any():\n",
    "    print(1)"
   ]
  },
  {
   "cell_type": "code",
   "execution_count": 274,
   "metadata": {},
   "outputs": [
    {
     "data": {
      "text/plain": [
       "True"
      ]
     },
     "execution_count": 274,
     "metadata": {},
     "output_type": "execute_result"
    }
   ],
   "source": [
    "(np.diff(np.where(nr_trials[16]==0)[0])-1).any()"
   ]
  },
  {
   "cell_type": "code",
   "execution_count": 193,
   "metadata": {},
   "outputs": [],
   "source": []
  },
  {
   "cell_type": "code",
   "execution_count": 324,
   "metadata": {},
   "outputs": [],
   "source": [
    "nr_trials[nr_trials==0]=1"
   ]
  },
  {
   "cell_type": "code",
   "execution_count": 193,
   "metadata": {},
   "outputs": [
    {
     "data": {
      "text/plain": [
       "(30, 2000)"
      ]
     },
     "execution_count": 193,
     "metadata": {},
     "output_type": "execute_result"
    }
   ],
   "source": []
  },
  {
   "cell_type": "code",
   "execution_count": 125,
   "metadata": {},
   "outputs": [],
   "source": [
    "# What is the best way to take in a data format for blink interpolation? Probably \n",
    "\n"
   ]
  },
  {
   "cell_type": "code",
   "execution_count": 327,
   "metadata": {},
   "outputs": [
    {
     "data": {
      "text/plain": [
       "[<matplotlib.lines.Line2D at 0x24b9e07aac8>]"
      ]
     },
     "execution_count": 327,
     "metadata": {},
     "output_type": "execute_result"
    },
    {
     "data": {
      "image/png": "[encoded data removed]",
      "text/plain": [
       "<Figure size 432x288 with 1 Axes>"
      ]
     },
     "metadata": {
      "needs_background": "light"
     },
     "output_type": "display_data"
    }
   ],
   "source": [
    "plt.plot(nr_trials[5][1150:1285])"
   ]
  },
  {
   "cell_type": "code",
   "execution_count": 339,
   "metadata": {},
   "outputs": [
    {
     "data": {
      "text/plain": [
       "[<matplotlib.lines.Line2D at 0x24b97d0a9b0>]"
      ]
     },
     "execution_count": 339,
     "metadata": {},
     "output_type": "execute_result"
    },
    {
     "data": {
      "image/png": "[encoded data removed]",
      "text/plain": [
       "<Figure size 432x288 with 1 Axes>"
      ]
     },
     "metadata": {
      "needs_background": "light"
     },
     "output_type": "display_data"
    }
   ],
   "source": [
    "plt.plot(blink_buffer_loop(nr_trials,buffer=20)[16][1500:2000])"
   ]
  },
  {
   "cell_type": "code",
   "execution_count": 54,
   "metadata": {},
   "outputs": [
    {
     "data": {
      "text/plain": [
       "(300, 500)"
      ]
     },
     "execution_count": 54,
     "metadata": {},
     "output_type": "execute_result"
    },
    {
     "data": {
      "image/png": "[encoded data removed]",
      "text/plain": [
       "<Figure size 432x288 with 1 Axes>"
      ]
     },
     "metadata": {
      "needs_background": "light"
     },
     "output_type": "display_data"
    }
   ],
   "source": [
    "plt.plot(nr_trials[1,1500:2000])\n",
    "plt.ylim(300,500)"
   ]
  },
  {
   "cell_type": "code",
   "execution_count": 96,
   "metadata": {},
   "outputs": [
    {
     "data": {
      "text/plain": [
       "(300, 500)"
      ]
     },
     "execution_count": 96,
     "metadata": {},
     "output_type": "execute_result"
    },
    {
     "data": {
      "image/png": "[encoded data removed]",
      "text/plain": [
       "<Figure size 432x288 with 1 Axes>"
      ]
     },
     "metadata": {
      "needs_background": "light"
     },
     "output_type": "display_data"
    }
   ],
   "source": [
    "idx = 5\n",
    "buffer=20\n",
    "# print(nr_trials.iloc[i,-1].shape)\n",
    "XX=np.array([i for i in range(0,500)])*0.002-2\n",
    "plt.plot(XX,blink_buffer_loop(nr_trials,buffer)[idx,0:500])\n",
    "plt.ylim(300,500)"
   ]
  },
  {
   "cell_type": "code",
   "execution_count": 280,
   "metadata": {},
   "outputs": [],
   "source": []
  },
  {
   "cell_type": "code",
   "execution_count": 331,
   "metadata": {},
   "outputs": [
    {
     "data": {
      "text/plain": [
       "[<matplotlib.lines.Line2D at 0x24bf7291668>]"
      ]
     },
     "execution_count": 331,
     "metadata": {},
     "output_type": "execute_result"
    },
    {
     "data": {
      "image/png": "[encoded data removed]",
      "text/plain": [
       "<Figure size 432x288 with 1 Axes>"
      ]
     },
     "metadata": {
      "needs_background": "light"
     },
     "output_type": "display_data"
    }
   ],
   "source": [
    "idx = 16\n",
    "# print(nr_trials.iloc[i,-1].shape)\n",
    "XX=np.array([i for i in range(0,2000)])*0.002-2\n",
    "plt.plot(XX,blink_buffer(nr_trials,100)[idx])"
   ]
  },
  {
   "cell_type": "code",
   "execution_count": 335,
   "metadata": {},
   "outputs": [
    {
     "data": {
      "text/plain": [
       "[<matplotlib.lines.Line2D at 0x24ba39e8b38>]"
      ]
     },
     "execution_count": 335,
     "metadata": {},
     "output_type": "execute_result"
    },
    {
     "data": {
      "image/png": "[encoded data removed]",
      "text/plain": [
       "<Figure size 432x288 with 1 Axes>"
      ]
     },
     "metadata": {
      "needs_background": "light"
     },
     "output_type": "display_data"
    }
   ],
   "source": [
    "idx = 16\n",
    "# print(nr_trials.iloc[i,-1].shape)\n",
    "XX=np.array([i for i in range(0,2000)])*0.002-2\n",
    "plt.plot(XX,blink_buffer_loop(nr_trials,20)[idx])"
   ]
  },
  {
   "cell_type": "code",
   "execution_count": 314,
   "metadata": {},
   "outputs": [
    {
     "ename": "KeyError",
     "evalue": "'PupilSize'",
     "output_type": "error",
     "traceback": [
      "\u001b[1;31m---------------------------------------------------------------------------\u001b[0m",
      "\u001b[1;31mKeyError\u001b[0m                                  Traceback (most recent call last)",
      "\u001b[1;32m~\\Anaconda3\\lib\\site-packages\\pandas\\core\\indexes\\base.py\u001b[0m in \u001b[0;36mget_loc\u001b[1;34m(self, key, method, tolerance)\u001b[0m\n\u001b[0;32m   2656\u001b[0m             \u001b[1;32mtry\u001b[0m\u001b[1;33m:\u001b[0m\u001b[1;33m\u001b[0m\u001b[1;33m\u001b[0m\u001b[0m\n\u001b[1;32m-> 2657\u001b[1;33m                 \u001b[1;32mreturn\u001b[0m \u001b[0mself\u001b[0m\u001b[1;33m.\u001b[0m\u001b[0m_engine\u001b[0m\u001b[1;33m.\u001b[0m\u001b[0mget_loc\u001b[0m\u001b[1;33m(\u001b[0m\u001b[0mkey\u001b[0m\u001b[1;33m)\u001b[0m\u001b[1;33m\u001b[0m\u001b[1;33m\u001b[0m\u001b[0m\n\u001b[0m\u001b[0;32m   2658\u001b[0m             \u001b[1;32mexcept\u001b[0m \u001b[0mKeyError\u001b[0m\u001b[1;33m:\u001b[0m\u001b[1;33m\u001b[0m\u001b[1;33m\u001b[0m\u001b[0m\n",
      "\u001b[1;32mpandas/_libs/index.pyx\u001b[0m in \u001b[0;36mpandas._libs.index.IndexEngine.get_loc\u001b[1;34m()\u001b[0m\n",
      "\u001b[1;32mpandas/_libs/index.pyx\u001b[0m in \u001b[0;36mpandas._libs.index.IndexEngine.get_loc\u001b[1;34m()\u001b[0m\n",
      "\u001b[1;32mpandas/_libs/index_class_helper.pxi\u001b[0m in \u001b[0;36mpandas._libs.index.Int64Engine._check_type\u001b[1;34m()\u001b[0m\n",
      "\u001b[1;31mKeyError\u001b[0m: 'PupilSize'",
      "\nDuring handling of the above exception, another exception occurred:\n",
      "\u001b[1;31mKeyError\u001b[0m                                  Traceback (most recent call last)",
      "\u001b[1;32m<ipython-input-314-4ba5502a3785>\u001b[0m in \u001b[0;36m<module>\u001b[1;34m\u001b[0m\n\u001b[0;32m      1\u001b[0m \u001b[1;31m# print(w_trials['PupilSize'][0,:].values.shape)\u001b[0m\u001b[1;33m\u001b[0m\u001b[1;33m\u001b[0m\u001b[1;33m\u001b[0m\u001b[0m\n\u001b[1;32m----> 2\u001b[1;33m \u001b[0mprint\u001b[0m\u001b[1;33m(\u001b[0m\u001b[0mnp\u001b[0m\u001b[1;33m.\u001b[0m\u001b[0mmean\u001b[0m\u001b[1;33m(\u001b[0m\u001b[0mw_trials\u001b[0m\u001b[1;33m[\u001b[0m\u001b[1;34m'PupilSize'\u001b[0m\u001b[1;33m]\u001b[0m\u001b[1;33m.\u001b[0m\u001b[0mvalues\u001b[0m\u001b[1;33m,\u001b[0m\u001b[0maxis\u001b[0m\u001b[1;33m=\u001b[0m\u001b[1;36m0\u001b[0m\u001b[1;33m)\u001b[0m\u001b[1;33m.\u001b[0m\u001b[0mshape\u001b[0m\u001b[1;33m)\u001b[0m\u001b[1;33m\u001b[0m\u001b[1;33m\u001b[0m\u001b[0m\n\u001b[0m",
      "\u001b[1;32m~\\Anaconda3\\lib\\site-packages\\pandas\\core\\frame.py\u001b[0m in \u001b[0;36m__getitem__\u001b[1;34m(self, key)\u001b[0m\n\u001b[0;32m   2925\u001b[0m             \u001b[1;32mif\u001b[0m \u001b[0mself\u001b[0m\u001b[1;33m.\u001b[0m\u001b[0mcolumns\u001b[0m\u001b[1;33m.\u001b[0m\u001b[0mnlevels\u001b[0m \u001b[1;33m>\u001b[0m \u001b[1;36m1\u001b[0m\u001b[1;33m:\u001b[0m\u001b[1;33m\u001b[0m\u001b[1;33m\u001b[0m\u001b[0m\n\u001b[0;32m   2926\u001b[0m                 \u001b[1;32mreturn\u001b[0m \u001b[0mself\u001b[0m\u001b[1;33m.\u001b[0m\u001b[0m_getitem_multilevel\u001b[0m\u001b[1;33m(\u001b[0m\u001b[0mkey\u001b[0m\u001b[1;33m)\u001b[0m\u001b[1;33m\u001b[0m\u001b[1;33m\u001b[0m\u001b[0m\n\u001b[1;32m-> 2927\u001b[1;33m             \u001b[0mindexer\u001b[0m \u001b[1;33m=\u001b[0m \u001b[0mself\u001b[0m\u001b[1;33m.\u001b[0m\u001b[0mcolumns\u001b[0m\u001b[1;33m.\u001b[0m\u001b[0mget_loc\u001b[0m\u001b[1;33m(\u001b[0m\u001b[0mkey\u001b[0m\u001b[1;33m)\u001b[0m\u001b[1;33m\u001b[0m\u001b[1;33m\u001b[0m\u001b[0m\n\u001b[0m\u001b[0;32m   2928\u001b[0m             \u001b[1;32mif\u001b[0m \u001b[0mis_integer\u001b[0m\u001b[1;33m(\u001b[0m\u001b[0mindexer\u001b[0m\u001b[1;33m)\u001b[0m\u001b[1;33m:\u001b[0m\u001b[1;33m\u001b[0m\u001b[1;33m\u001b[0m\u001b[0m\n\u001b[0;32m   2929\u001b[0m                 \u001b[0mindexer\u001b[0m \u001b[1;33m=\u001b[0m \u001b[1;33m[\u001b[0m\u001b[0mindexer\u001b[0m\u001b[1;33m]\u001b[0m\u001b[1;33m\u001b[0m\u001b[1;33m\u001b[0m\u001b[0m\n",
      "\u001b[1;32m~\\Anaconda3\\lib\\site-packages\\pandas\\core\\indexes\\base.py\u001b[0m in \u001b[0;36mget_loc\u001b[1;34m(self, key, method, tolerance)\u001b[0m\n\u001b[0;32m   2657\u001b[0m                 \u001b[1;32mreturn\u001b[0m \u001b[0mself\u001b[0m\u001b[1;33m.\u001b[0m\u001b[0m_engine\u001b[0m\u001b[1;33m.\u001b[0m\u001b[0mget_loc\u001b[0m\u001b[1;33m(\u001b[0m\u001b[0mkey\u001b[0m\u001b[1;33m)\u001b[0m\u001b[1;33m\u001b[0m\u001b[1;33m\u001b[0m\u001b[0m\n\u001b[0;32m   2658\u001b[0m             \u001b[1;32mexcept\u001b[0m \u001b[0mKeyError\u001b[0m\u001b[1;33m:\u001b[0m\u001b[1;33m\u001b[0m\u001b[1;33m\u001b[0m\u001b[0m\n\u001b[1;32m-> 2659\u001b[1;33m                 \u001b[1;32mreturn\u001b[0m \u001b[0mself\u001b[0m\u001b[1;33m.\u001b[0m\u001b[0m_engine\u001b[0m\u001b[1;33m.\u001b[0m\u001b[0mget_loc\u001b[0m\u001b[1;33m(\u001b[0m\u001b[0mself\u001b[0m\u001b[1;33m.\u001b[0m\u001b[0m_maybe_cast_indexer\u001b[0m\u001b[1;33m(\u001b[0m\u001b[0mkey\u001b[0m\u001b[1;33m)\u001b[0m\u001b[1;33m)\u001b[0m\u001b[1;33m\u001b[0m\u001b[1;33m\u001b[0m\u001b[0m\n\u001b[0m\u001b[0;32m   2660\u001b[0m         \u001b[0mindexer\u001b[0m \u001b[1;33m=\u001b[0m \u001b[0mself\u001b[0m\u001b[1;33m.\u001b[0m\u001b[0mget_indexer\u001b[0m\u001b[1;33m(\u001b[0m\u001b[1;33m[\u001b[0m\u001b[0mkey\u001b[0m\u001b[1;33m]\u001b[0m\u001b[1;33m,\u001b[0m \u001b[0mmethod\u001b[0m\u001b[1;33m=\u001b[0m\u001b[0mmethod\u001b[0m\u001b[1;33m,\u001b[0m \u001b[0mtolerance\u001b[0m\u001b[1;33m=\u001b[0m\u001b[0mtolerance\u001b[0m\u001b[1;33m)\u001b[0m\u001b[1;33m\u001b[0m\u001b[1;33m\u001b[0m\u001b[0m\n\u001b[0;32m   2661\u001b[0m         \u001b[1;32mif\u001b[0m \u001b[0mindexer\u001b[0m\u001b[1;33m.\u001b[0m\u001b[0mndim\u001b[0m \u001b[1;33m>\u001b[0m \u001b[1;36m1\u001b[0m \u001b[1;32mor\u001b[0m \u001b[0mindexer\u001b[0m\u001b[1;33m.\u001b[0m\u001b[0msize\u001b[0m \u001b[1;33m>\u001b[0m \u001b[1;36m1\u001b[0m\u001b[1;33m:\u001b[0m\u001b[1;33m\u001b[0m\u001b[1;33m\u001b[0m\u001b[0m\n",
      "\u001b[1;32mpandas/_libs/index.pyx\u001b[0m in \u001b[0;36mpandas._libs.index.IndexEngine.get_loc\u001b[1;34m()\u001b[0m\n",
      "\u001b[1;32mpandas/_libs/index.pyx\u001b[0m in \u001b[0;36mpandas._libs.index.IndexEngine.get_loc\u001b[1;34m()\u001b[0m\n",
      "\u001b[1;32mpandas/_libs/index_class_helper.pxi\u001b[0m in \u001b[0;36mpandas._libs.index.Int64Engine._check_type\u001b[1;34m()\u001b[0m\n",
      "\u001b[1;31mKeyError\u001b[0m: 'PupilSize'"
     ]
    }
   ],
   "source": [
    "# print(w_trials['PupilSize'][0,:].values.shape)\n",
    "print(np.mean(w_trials['PupilSize'].values,axis=0).shape)"
   ]
  },
  {
   "cell_type": "code",
   "execution_count": 55,
   "metadata": {},
   "outputs": [
    {
     "ename": "KeyError",
     "evalue": "'PupilSize'",
     "output_type": "error",
     "traceback": [
      "\u001b[1;31m---------------------------------------------------------------------------\u001b[0m",
      "\u001b[1;31mKeyError\u001b[0m                                  Traceback (most recent call last)",
      "\u001b[1;32m~\\Anaconda3\\lib\\site-packages\\pandas\\core\\indexes\\base.py\u001b[0m in \u001b[0;36mget_loc\u001b[1;34m(self, key, method, tolerance)\u001b[0m\n\u001b[0;32m   2656\u001b[0m             \u001b[1;32mtry\u001b[0m\u001b[1;33m:\u001b[0m\u001b[1;33m\u001b[0m\u001b[1;33m\u001b[0m\u001b[0m\n\u001b[1;32m-> 2657\u001b[1;33m                 \u001b[1;32mreturn\u001b[0m \u001b[0mself\u001b[0m\u001b[1;33m.\u001b[0m\u001b[0m_engine\u001b[0m\u001b[1;33m.\u001b[0m\u001b[0mget_loc\u001b[0m\u001b[1;33m(\u001b[0m\u001b[0mkey\u001b[0m\u001b[1;33m)\u001b[0m\u001b[1;33m\u001b[0m\u001b[1;33m\u001b[0m\u001b[0m\n\u001b[0m\u001b[0;32m   2658\u001b[0m             \u001b[1;32mexcept\u001b[0m \u001b[0mKeyError\u001b[0m\u001b[1;33m:\u001b[0m\u001b[1;33m\u001b[0m\u001b[1;33m\u001b[0m\u001b[0m\n",
      "\u001b[1;32mpandas/_libs/index.pyx\u001b[0m in \u001b[0;36mpandas._libs.index.IndexEngine.get_loc\u001b[1;34m()\u001b[0m\n",
      "\u001b[1;32mpandas/_libs/index.pyx\u001b[0m in \u001b[0;36mpandas._libs.index.IndexEngine.get_loc\u001b[1;34m()\u001b[0m\n",
      "\u001b[1;32mpandas/_libs/index_class_helper.pxi\u001b[0m in \u001b[0;36mpandas._libs.index.Int64Engine._check_type\u001b[1;34m()\u001b[0m\n",
      "\u001b[1;31mKeyError\u001b[0m: 'PupilSize'",
      "\nDuring handling of the above exception, another exception occurred:\n",
      "\u001b[1;31mKeyError\u001b[0m                                  Traceback (most recent call last)",
      "\u001b[1;32m<ipython-input-55-85c16ef3d9e6>\u001b[0m in \u001b[0;36m<module>\u001b[1;34m\u001b[0m\n\u001b[0;32m      1\u001b[0m \u001b[1;31m# NO BLINK REMOVAL\u001b[0m\u001b[1;33m\u001b[0m\u001b[1;33m\u001b[0m\u001b[1;33m\u001b[0m\u001b[0m\n\u001b[1;32m----> 2\u001b[1;33m \u001b[0mnr_mean\u001b[0m \u001b[1;33m=\u001b[0m \u001b[0mnp\u001b[0m\u001b[1;33m.\u001b[0m\u001b[0mmean\u001b[0m\u001b[1;33m(\u001b[0m\u001b[0mnr_trials\u001b[0m\u001b[1;33m[\u001b[0m\u001b[1;34m'PupilSize'\u001b[0m\u001b[1;33m]\u001b[0m\u001b[1;33m.\u001b[0m\u001b[0mvalues\u001b[0m\u001b[1;33m,\u001b[0m\u001b[0maxis\u001b[0m\u001b[1;33m=\u001b[0m\u001b[1;36m0\u001b[0m\u001b[1;33m)\u001b[0m\u001b[1;33m\u001b[0m\u001b[1;33m\u001b[0m\u001b[0m\n\u001b[0m\u001b[0;32m      3\u001b[0m \u001b[0mw_mean\u001b[0m \u001b[1;33m=\u001b[0m \u001b[0mnp\u001b[0m\u001b[1;33m.\u001b[0m\u001b[0mmean\u001b[0m\u001b[1;33m(\u001b[0m\u001b[0mw_trials\u001b[0m\u001b[1;33m[\u001b[0m\u001b[1;34m'PupilSize'\u001b[0m\u001b[1;33m]\u001b[0m\u001b[1;33m.\u001b[0m\u001b[0mvalues\u001b[0m\u001b[1;33m,\u001b[0m\u001b[0maxis\u001b[0m\u001b[1;33m=\u001b[0m\u001b[1;36m0\u001b[0m\u001b[1;33m)\u001b[0m\u001b[1;33m\u001b[0m\u001b[1;33m\u001b[0m\u001b[0m\n\u001b[0;32m      4\u001b[0m \u001b[0mm_mean\u001b[0m \u001b[1;33m=\u001b[0m \u001b[0mnp\u001b[0m\u001b[1;33m.\u001b[0m\u001b[0mmean\u001b[0m\u001b[1;33m(\u001b[0m\u001b[0mm_trials\u001b[0m\u001b[1;33m[\u001b[0m\u001b[1;34m'PupilSize'\u001b[0m\u001b[1;33m]\u001b[0m\u001b[1;33m.\u001b[0m\u001b[0mvalues\u001b[0m\u001b[1;33m,\u001b[0m\u001b[0maxis\u001b[0m\u001b[1;33m=\u001b[0m\u001b[1;36m0\u001b[0m\u001b[1;33m)\u001b[0m\u001b[1;33m\u001b[0m\u001b[1;33m\u001b[0m\u001b[0m\n\u001b[0;32m      5\u001b[0m \u001b[0ms_mean\u001b[0m \u001b[1;33m=\u001b[0m \u001b[0mnp\u001b[0m\u001b[1;33m.\u001b[0m\u001b[0mmean\u001b[0m\u001b[1;33m(\u001b[0m\u001b[0ms_trials\u001b[0m\u001b[1;33m[\u001b[0m\u001b[1;34m'PupilSize'\u001b[0m\u001b[1;33m]\u001b[0m\u001b[1;33m.\u001b[0m\u001b[0mvalues\u001b[0m\u001b[1;33m,\u001b[0m\u001b[0maxis\u001b[0m\u001b[1;33m=\u001b[0m\u001b[1;36m0\u001b[0m\u001b[1;33m)\u001b[0m\u001b[1;33m\u001b[0m\u001b[1;33m\u001b[0m\u001b[0m\n",
      "\u001b[1;32m~\\Anaconda3\\lib\\site-packages\\pandas\\core\\frame.py\u001b[0m in \u001b[0;36m__getitem__\u001b[1;34m(self, key)\u001b[0m\n\u001b[0;32m   2925\u001b[0m             \u001b[1;32mif\u001b[0m \u001b[0mself\u001b[0m\u001b[1;33m.\u001b[0m\u001b[0mcolumns\u001b[0m\u001b[1;33m.\u001b[0m\u001b[0mnlevels\u001b[0m \u001b[1;33m>\u001b[0m \u001b[1;36m1\u001b[0m\u001b[1;33m:\u001b[0m\u001b[1;33m\u001b[0m\u001b[1;33m\u001b[0m\u001b[0m\n\u001b[0;32m   2926\u001b[0m                 \u001b[1;32mreturn\u001b[0m \u001b[0mself\u001b[0m\u001b[1;33m.\u001b[0m\u001b[0m_getitem_multilevel\u001b[0m\u001b[1;33m(\u001b[0m\u001b[0mkey\u001b[0m\u001b[1;33m)\u001b[0m\u001b[1;33m\u001b[0m\u001b[1;33m\u001b[0m\u001b[0m\n\u001b[1;32m-> 2927\u001b[1;33m             \u001b[0mindexer\u001b[0m \u001b[1;33m=\u001b[0m \u001b[0mself\u001b[0m\u001b[1;33m.\u001b[0m\u001b[0mcolumns\u001b[0m\u001b[1;33m.\u001b[0m\u001b[0mget_loc\u001b[0m\u001b[1;33m(\u001b[0m\u001b[0mkey\u001b[0m\u001b[1;33m)\u001b[0m\u001b[1;33m\u001b[0m\u001b[1;33m\u001b[0m\u001b[0m\n\u001b[0m\u001b[0;32m   2928\u001b[0m             \u001b[1;32mif\u001b[0m \u001b[0mis_integer\u001b[0m\u001b[1;33m(\u001b[0m\u001b[0mindexer\u001b[0m\u001b[1;33m)\u001b[0m\u001b[1;33m:\u001b[0m\u001b[1;33m\u001b[0m\u001b[1;33m\u001b[0m\u001b[0m\n\u001b[0;32m   2929\u001b[0m                 \u001b[0mindexer\u001b[0m \u001b[1;33m=\u001b[0m \u001b[1;33m[\u001b[0m\u001b[0mindexer\u001b[0m\u001b[1;33m]\u001b[0m\u001b[1;33m\u001b[0m\u001b[1;33m\u001b[0m\u001b[0m\n",
      "\u001b[1;32m~\\Anaconda3\\lib\\site-packages\\pandas\\core\\indexes\\base.py\u001b[0m in \u001b[0;36mget_loc\u001b[1;34m(self, key, method, tolerance)\u001b[0m\n\u001b[0;32m   2657\u001b[0m                 \u001b[1;32mreturn\u001b[0m \u001b[0mself\u001b[0m\u001b[1;33m.\u001b[0m\u001b[0m_engine\u001b[0m\u001b[1;33m.\u001b[0m\u001b[0mget_loc\u001b[0m\u001b[1;33m(\u001b[0m\u001b[0mkey\u001b[0m\u001b[1;33m)\u001b[0m\u001b[1;33m\u001b[0m\u001b[1;33m\u001b[0m\u001b[0m\n\u001b[0;32m   2658\u001b[0m             \u001b[1;32mexcept\u001b[0m \u001b[0mKeyError\u001b[0m\u001b[1;33m:\u001b[0m\u001b[1;33m\u001b[0m\u001b[1;33m\u001b[0m\u001b[0m\n\u001b[1;32m-> 2659\u001b[1;33m                 \u001b[1;32mreturn\u001b[0m \u001b[0mself\u001b[0m\u001b[1;33m.\u001b[0m\u001b[0m_engine\u001b[0m\u001b[1;33m.\u001b[0m\u001b[0mget_loc\u001b[0m\u001b[1;33m(\u001b[0m\u001b[0mself\u001b[0m\u001b[1;33m.\u001b[0m\u001b[0m_maybe_cast_indexer\u001b[0m\u001b[1;33m(\u001b[0m\u001b[0mkey\u001b[0m\u001b[1;33m)\u001b[0m\u001b[1;33m)\u001b[0m\u001b[1;33m\u001b[0m\u001b[1;33m\u001b[0m\u001b[0m\n\u001b[0m\u001b[0;32m   2660\u001b[0m         \u001b[0mindexer\u001b[0m \u001b[1;33m=\u001b[0m \u001b[0mself\u001b[0m\u001b[1;33m.\u001b[0m\u001b[0mget_indexer\u001b[0m\u001b[1;33m(\u001b[0m\u001b[1;33m[\u001b[0m\u001b[0mkey\u001b[0m\u001b[1;33m]\u001b[0m\u001b[1;33m,\u001b[0m \u001b[0mmethod\u001b[0m\u001b[1;33m=\u001b[0m\u001b[0mmethod\u001b[0m\u001b[1;33m,\u001b[0m \u001b[0mtolerance\u001b[0m\u001b[1;33m=\u001b[0m\u001b[0mtolerance\u001b[0m\u001b[1;33m)\u001b[0m\u001b[1;33m\u001b[0m\u001b[1;33m\u001b[0m\u001b[0m\n\u001b[0;32m   2661\u001b[0m         \u001b[1;32mif\u001b[0m \u001b[0mindexer\u001b[0m\u001b[1;33m.\u001b[0m\u001b[0mndim\u001b[0m \u001b[1;33m>\u001b[0m \u001b[1;36m1\u001b[0m \u001b[1;32mor\u001b[0m \u001b[0mindexer\u001b[0m\u001b[1;33m.\u001b[0m\u001b[0msize\u001b[0m \u001b[1;33m>\u001b[0m \u001b[1;36m1\u001b[0m\u001b[1;33m:\u001b[0m\u001b[1;33m\u001b[0m\u001b[1;33m\u001b[0m\u001b[0m\n",
      "\u001b[1;32mpandas/_libs/index.pyx\u001b[0m in \u001b[0;36mpandas._libs.index.IndexEngine.get_loc\u001b[1;34m()\u001b[0m\n",
      "\u001b[1;32mpandas/_libs/index.pyx\u001b[0m in \u001b[0;36mpandas._libs.index.IndexEngine.get_loc\u001b[1;34m()\u001b[0m\n",
      "\u001b[1;32mpandas/_libs/index_class_helper.pxi\u001b[0m in \u001b[0;36mpandas._libs.index.Int64Engine._check_type\u001b[1;34m()\u001b[0m\n",
      "\u001b[1;31mKeyError\u001b[0m: 'PupilSize'"
     ]
    }
   ],
   "source": [
    "# NO BLINK REMOVAL\n",
    "nr_mean = np.mean(nr_trials['PupilSize'].values,axis=0)\n",
    "w_mean = np.mean(w_trials['PupilSize'].values,axis=0)\n",
    "m_mean = np.mean(m_trials['PupilSize'].values,axis=0)\n",
    "s_mean = np.mean(s_trials['PupilSize'].values,axis=0)\n",
    "i_mean = np.mean(i_trials['PupilSize'].values,axis=0)"
   ]
  },
  {
   "cell_type": "code",
   "execution_count": null,
   "metadata": {},
   "outputs": [],
   "source": [
    "XX=np.array([i for i in range(0,2000)])*0.002-2\n",
    "plt.plot(XX,nr_mean)"
   ]
  },
  {
   "cell_type": "code",
   "execution_count": null,
   "metadata": {},
   "outputs": [],
   "source": [
    "XX=np.array([i for i in range(0,2000)])*0.002-2\n",
    "plt.plot(XX,w_mean)"
   ]
  },
  {
   "cell_type": "code",
   "execution_count": null,
   "metadata": {},
   "outputs": [],
   "source": [
    "XX=np.array([i for i in range(0,2000)])*0.002-2\n",
    "plt.plot(XX,m_mean)"
   ]
  },
  {
   "cell_type": "code",
   "execution_count": null,
   "metadata": {},
   "outputs": [],
   "source": [
    "XX=np.array([i for i in range(0,2000)])*0.002-2\n",
    "plt.plot(XX,s_mean)"
   ]
  },
  {
   "cell_type": "code",
   "execution_count": null,
   "metadata": {},
   "outputs": [],
   "source": [
    "XX=np.array([i for i in range(0,2000)])*0.002-2\n",
    "plt.plot(XX,i_mean)"
   ]
  },
  {
   "cell_type": "code",
   "execution_count": null,
   "metadata": {},
   "outputs": [],
   "source": [
    "XX=np.array([i for i in range(0,2000)])*0.002-2\n",
    "plt.plot(XX,w_mean-nr_mean)"
   ]
  },
  {
   "cell_type": "code",
   "execution_count": null,
   "metadata": {},
   "outputs": [],
   "source": []
  },
  {
   "cell_type": "code",
   "execution_count": null,
   "metadata": {},
   "outputs": [],
   "source": [
    "nr_trials[(nr_trials.T !=0).all()]"
   ]
  },
  {
   "cell_type": "code",
   "execution_count": null,
   "metadata": {},
   "outputs": [],
   "source": []
  },
  {
   "cell_type": "code",
   "execution_count": null,
   "metadata": {},
   "outputs": [],
   "source": []
  },
  {
   "cell_type": "code",
   "execution_count": null,
   "metadata": {},
   "outputs": [],
   "source": []
  }
 ],
 "metadata": {
  "kernelspec": {
   "display_name": "Python 3",
   "language": "python",
   "name": "python3"
  },
  "language_info": {
   "codemirror_mode": {
    "name": "ipython",
    "version": 3
   },
   "file_extension": ".py",
   "mimetype": "text/x-python",
   "name": "python",
   "nbconvert_exporter": "python",
   "pygments_lexer": "ipython3",
   "version": "3.7.2"
  }
 },
 "nbformat": 4,
 "nbformat_minor": 2
}
